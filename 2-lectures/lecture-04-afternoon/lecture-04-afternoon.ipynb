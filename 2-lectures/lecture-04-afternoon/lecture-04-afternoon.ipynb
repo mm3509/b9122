{
  "nbformat": 4,
  "nbformat_minor": 0,
  "metadata": {
    "colab": {
      "provenance": []
    },
    "kernelspec": {
      "name": "python3",
      "display_name": "Python 3"
    },
    "language_info": {
      "name": "python"
    }
  },
  "cells": [
    {
      "cell_type": "markdown",
      "source": [
        "# User input"
      ],
      "metadata": {
        "id": "vE0CF8bDkytK"
      }
    },
    {
      "cell_type": "code",
      "source": [
        "answer = input(\"Please write something: \")\n",
        "print(\"You wrote:\", answer)\n",
        "print(\"Data type: \", type(answer))"
      ],
      "metadata": {
        "id": "nKq2fPnsk00J"
      },
      "execution_count": null,
      "outputs": []
    },
    {
      "cell_type": "markdown",
      "source": [
        "# Conditionals\n",
        "\n",
        "## if"
      ],
      "metadata": {
        "id": "OTpxt55SkdmR"
      }
    },
    {
      "cell_type": "code",
      "execution_count": null,
      "metadata": {
        "id": "JcoQPKblkDXw"
      },
      "outputs": [],
      "source": [
        "import random\n",
        "\n",
        "jokes = [\n",
        "    \"What do you get when you cross a snowman with a vampire? Frostbite!\",\n",
        "    \"What cheese is made backwards? Edam!\",\n",
        "    \"What do lawyers wear to courts? Lawsuits!\",\n",
        "    \"What do you call a grizzly bear with no teeth? A gummy bear\"\n",
        "]\n",
        "\n",
        "answer = input(\"Would you like hear a joke? \")\n",
        "\n",
        "if answer == \"yes\":\n",
        "    print(random.choice(jokes))\n"
      ]
    },
    {
      "cell_type": "markdown",
      "source": [
        "## if, else"
      ],
      "metadata": {
        "id": "PSn3NOrdkjBh"
      }
    },
    {
      "cell_type": "code",
      "source": [
        "price = int(input(\"What is the price? \"))\n",
        "\n",
        "if price > 50:\n",
        "    print(f\"Price is high at {price}, sell now\")\n",
        "else:\n",
        "    print(f\"Price is low at {price}, buy now\")"
      ],
      "metadata": {
        "id": "1bA3hFNVkaMP"
      },
      "execution_count": null,
      "outputs": []
    },
    {
      "cell_type": "markdown",
      "source": [
        "## if, elif, else"
      ],
      "metadata": {
        "id": "BJ_PZIwxkqoK"
      }
    },
    {
      "cell_type": "code",
      "source": [
        "price = int(input(\"What is the price? \"))\n",
        "\n",
        "if price > 80:\n",
        "    print(f\"Price is high at {price}, sell now\")\n",
        "elif price < 20:\n",
        "    print(f\"Price is low at {price}, buy now\")\n",
        "else:\n",
        "    print(\"Price is stable: do nothing\")\n"
      ],
      "metadata": {
        "id": "aT0a-8ixktoc"
      },
      "execution_count": null,
      "outputs": []
    },
    {
      "cell_type": "markdown",
      "source": [
        "# Operators\n",
        "\n",
        "## Equality: `==`"
      ],
      "metadata": {
        "id": "OkC8UdcMljdR"
      }
    },
    {
      "cell_type": "code",
      "source": [
        "answer = \"yes\"\n",
        "print(answer == \"yes\")  # True\n",
        "print(answer == \"no\")  # False"
      ],
      "metadata": {
        "id": "LgrbJ8pnlmcB"
      },
      "execution_count": null,
      "outputs": []
    },
    {
      "cell_type": "markdown",
      "source": [
        "## Not equality: `!=`"
      ],
      "metadata": {
        "id": "vGCIcq1iludr"
      }
    },
    {
      "cell_type": "code",
      "source": [
        "answer = \"no\"\n",
        "print(answer != \"yes\")  # True\n",
        "print(answer != \"no\")  # False"
      ],
      "metadata": {
        "id": "ccOgLlX8lsqz"
      },
      "execution_count": null,
      "outputs": []
    },
    {
      "cell_type": "markdown",
      "source": [
        "## Strict comparison: `>`, `<`"
      ],
      "metadata": {
        "id": "WsjgGtR6mXVq"
      }
    },
    {
      "cell_type": "code",
      "source": [
        "print(10 > 12)  # False\n",
        "print(10 < 12)  # True"
      ],
      "metadata": {
        "id": "cf1ftExEl1ka"
      },
      "execution_count": null,
      "outputs": []
    },
    {
      "cell_type": "markdown",
      "source": [
        "## Non-strict comparison: `>=`, `<=`"
      ],
      "metadata": {
        "id": "MAAyDeZTmg8t"
      }
    },
    {
      "cell_type": "code",
      "source": [
        "print(1 + 1 + 1 >= 3)\n",
        "print(1 + 1 + 1 <= 3)"
      ],
      "metadata": {
        "id": "2PnSQCE4mc76"
      },
      "execution_count": null,
      "outputs": []
    },
    {
      "cell_type": "markdown",
      "source": [
        "## Negation: `not`"
      ],
      "metadata": {
        "id": "RAbn_Ah0mngw"
      }
    },
    {
      "cell_type": "code",
      "source": [
        "print(not True)  # False\n",
        "print(not False)  # True\n",
        "print(not 1 + 1 + 1 >= 3)  # False"
      ],
      "metadata": {
        "id": "TXE2CcUFmlWZ"
      },
      "execution_count": null,
      "outputs": []
    },
    {
      "cell_type": "markdown",
      "source": [
        "## And: `and`"
      ],
      "metadata": {
        "id": "UKtBm7eBm0nl"
      }
    },
    {
      "cell_type": "code",
      "source": [
        "username = \"admin\"\n",
        "password = \"1234\"\n",
        "print(username == \"admin\" and password == \"1234\")  # True\n",
        "password = \"wrong password\"\n",
        "print(username == \"admin\" and password == \"1234\")  # False"
      ],
      "metadata": {
        "id": "9jinIWrJmyNr"
      },
      "execution_count": null,
      "outputs": []
    },
    {
      "cell_type": "markdown",
      "source": [
        "## Or: `or`"
      ],
      "metadata": {
        "id": "0XzgPUEjnJOT"
      }
    },
    {
      "cell_type": "code",
      "source": [
        "answer = \"yes\"\n",
        "print(answer == \"Yes\" or answer == \"yes\")  # True\n",
        "print(answer == \"No\" or answer == \"no\")  # False"
      ],
      "metadata": {
        "id": "iX-8jQYcnLSC"
      },
      "execution_count": null,
      "outputs": []
    },
    {
      "cell_type": "markdown",
      "source": [
        "## Inclusion: `in`\n",
        "\n",
        "This tests whether a value is in an iterable, e.g. an element in a list or a character in a string.\n",
        "\n"
      ],
      "metadata": {
        "id": "UGzt7j0LnYbK"
      }
    },
    {
      "cell_type": "code",
      "source": [
        "print(\"d\" in \"hello\")  # False\n",
        "print(\"d\" in \"goodbye\")  # True\n",
        "print(\"d\" in \"GOODBYE\")  # False\n",
        "\n",
        "nyc = [\"Manhattan\", \"Brooklyn\", \"Bronx\", \"Queens\", \"Staten Island\"]\n",
        "print(\"Manhattan\" in nyc)  # True"
      ],
      "metadata": {
        "id": "03S4VPC9nSN7"
      },
      "execution_count": null,
      "outputs": []
    },
    {
      "cell_type": "markdown",
      "source": [
        "## Logic practice\n",
        "\n",
        "Read each line, think what the boolean should be, then run it to see if you were right. With parentheses, the math rules apply: evaluate inside parentheses first."
      ],
      "metadata": {
        "id": "9PpFNo3UoLwb"
      }
    },
    {
      "cell_type": "code",
      "source": [
        "True and True\n",
        "False and True\n",
        "(1 == 1) and (2 == 1)\n",
        "\"love\" == \"love\"\n",
        "(1 == 1) or (2 != 1)\n",
        "True and (1 == 1)\n",
        "False and (0 != 0)\n",
        "True or (1 == 1)\n",
        "\"time\" == \"money\"\n",
        "(1 != 0) and (2 == 1)\n",
        "\"I Can't Believe It's Not Butter!\" != \"butter\"\n",
        "\"one\" == 1\n",
        "not (True and False)\n",
        "not ((1 == 1) and (0 != 1))\n",
        "not ((10 == 1) or (1000 == 1000))\n",
        "not ((1 != 10) or (3 == 4))\n",
        "not ((\"love\" == \"love\") and (\"time\" == \"money\"))\n",
        "(1 == 1) and (not ((\"one\" == 1) or (1 == 0)))\n",
        "(\"chunky\" == \"bacon\") and (not ((3 == 4) or (3 == 3)))\n",
        "(3 == 3) and (not ((\"love\" == \"love\") or (\"Python\" == \"Fun\")))"
      ],
      "metadata": {
        "id": "umzRi2OpnwVr"
      },
      "execution_count": null,
      "outputs": []
    },
    {
      "cell_type": "markdown",
      "source": [
        "# Sequence functions (for strings and lists)\n",
        "\n",
        "`len()` gives you the length of a sequence\n",
        "\n",
        "`sorted()` sorts a sequence\n",
        "\n",
        "`\" \".join()` converts a list to a string, using space as a separator\n",
        "\n",
        "`\"\".join()` converts a list to a string, with the empty string as a separator (no separation)"
      ],
      "metadata": {
        "id": "A9Ere6qbVJVe"
      }
    },
    {
      "cell_type": "code",
      "source": [
        "a_string = \"Columbia University\"\n",
        "a_list = [\"a\", \"b\", \"c\"]\n",
        "\n",
        "print(len(a_string))\n",
        "print(len(a_list))\n",
        "\n",
        "sorted_string = sorted(a_string)\n",
        "sorted_list = sorted(a_list)\n",
        "\n",
        "print(sorted_string)\n",
        "print(sorted_list)\n",
        "\n",
        "print(\" \".join(sorted_string))\n",
        "print(\"\".join(sorted_string))"
      ],
      "metadata": {
        "id": "HkxFiNZXWlor"
      },
      "execution_count": null,
      "outputs": []
    },
    {
      "cell_type": "markdown",
      "source": [
        "# String methods\n",
        "\n",
        "Methods are functions that run with a period after an object, like \".lower()\" on a string."
      ],
      "metadata": {
        "id": "aawAfuZSWgR3"
      }
    },
    {
      "cell_type": "code",
      "source": [
        "name = \"Columbia University\"\n",
        "print(name.upper())  # Convert to uppercase\n",
        "print(name.lower())  # Convert to lowercase\n",
        "print(name.title())  # Convert to title case (first letter uppercase, others lowercase)\n",
        "print(name.count(\"i\"))  # Count number of occurrences\n",
        "print(name.replace(\" \", \"\"))  # Replace all occurrences of the 1st argument with the 2nd\n",
        "\n",
        "name = \"  Columbia University  \"\n",
        "print(name)\n",
        "print(name.strip())  # Removes spaces from start and end"
      ],
      "metadata": {
        "id": "KYvv02EbVYbG"
      },
      "execution_count": null,
      "outputs": []
    },
    {
      "cell_type": "code",
      "source": [],
      "metadata": {
        "id": "8qERbZFYWNyU"
      },
      "execution_count": null,
      "outputs": []
    }
  ]
}