{
  "nbformat": 4,
  "nbformat_minor": 0,
  "metadata": {
    "colab": {
      "provenance": [],
      "collapsed_sections": [
        "0Qq7om_Q0STe"
      ]
    },
    "kernelspec": {
      "name": "python3",
      "display_name": "Python 3"
    },
    "language_info": {
      "name": "python"
    }
  },
  "cells": [
    {
      "cell_type": "markdown",
      "source": [
        "# Sets\n",
        "\n",
        "Sets are the last basic data type we will see. Sets are like a list, but elements are unique. The syntax is `set(<some-iterable>)`, and the iterable can be a list, a string, a range, dictionary keys, etc. For example:"
      ],
      "metadata": {
        "id": "6OWj31V9kBZk"
      }
    },
    {
      "cell_type": "code",
      "source": [
        "a_list = [1, 2, 3]\n",
        "a_set = set(a_list)\n",
        "print(a_set)\n",
        "\n",
        "# TODO: convert a string to a set, a tuple to a set, and\n",
        "# dictionary keys to a set, then print the sets.\n",
        "s = {1, 2, 3}\n",
        "print(s)"
      ],
      "metadata": {
        "colab": {
          "base_uri": "https://localhost:8080/"
        },
        "id": "-WL8y7vEkOme",
        "outputId": "6c0aad13-3cf7-4042-e4c4-5b85ff8283f4"
      },
      "execution_count": 2,
      "outputs": [
        {
          "output_type": "stream",
          "name": "stdout",
          "text": [
            "{1, 2, 3}\n",
            "{1, 2, 3}\n"
          ]
        }
      ]
    },
    {
      "cell_type": "markdown",
      "source": [
        "# Value vs. reference\n",
        "\n",
        "## View vs. copy\n",
        "\n",
        "Read the code below: what do you expect the end print to show?"
      ],
      "metadata": {
        "id": "_IYKEihAM4xD"
      }
    },
    {
      "cell_type": "code",
      "source": [
        "a = [1, 2, 3]\n",
        "print(a)  # Prints [1, 2, 3]\n",
        "\n",
        "b = a\n",
        "b[2] = 4\n",
        "\n",
        "print(a)  # What do you expect?"
      ],
      "metadata": {
        "id": "41Ure6_wM05U",
        "colab": {
          "base_uri": "https://localhost:8080/"
        },
        "outputId": "607dfa91-ae49-4dd1-b492-2da1a1905a25"
      },
      "execution_count": 4,
      "outputs": [
        {
          "output_type": "stream",
          "name": "stdout",
          "text": [
            "[1, 2, 3]\n",
            "[1, 2, 4]\n"
          ]
        }
      ]
    },
    {
      "cell_type": "markdown",
      "source": [
        "The result is that it prints `[1, 2, 4]`, not `[1, 2, 3]`: changing an element in `b` also changes `a`!\n",
        "\n",
        "Explanation: the assignment `a = [1, 2, 3]` creates some space in memory, say `0x1e`, to hold the list `[1, 2, 3]`. Python assigns to `a` the memory address `0x1e` along with the data type `list`.\n",
        "\n",
        "The assignment `b = a` does NOT create a new list `[1, 2, 3]` in memory, it just copies the memory address and the data type. The instruction `b = a` creates a **view** on `a`, not a **copy** of `a`.\n",
        "\n",
        "## Value vs. address\n",
        "\n",
        "You can view the memory address with function `id()`, and in hexadecimal format with `hex(id())`. Let's confirm that `a` and `b` point to the same memory address:"
      ],
      "metadata": {
        "id": "YScqUkdmNQO0"
      }
    },
    {
      "cell_type": "code",
      "source": [
        "print(\"a is at:\", hex(id(a)))\n",
        "print(\"b is at:\", hex(id(b)))\n",
        "print(\"a and b at the same address:\", id(a) == id(b))"
      ],
      "metadata": {
        "id": "rX6UIlU5uBTl",
        "colab": {
          "base_uri": "https://localhost:8080/"
        },
        "outputId": "9162c7f0-4e21-4c17-b86c-e85514260a80"
      },
      "execution_count": 5,
      "outputs": [
        {
          "output_type": "stream",
          "name": "stdout",
          "text": [
            "a is at: 0x7ca4c43078c0\n",
            "b is at: 0x7ca4c43078c0\n",
            "a and b at the same address: True\n"
          ]
        }
      ]
    },
    {
      "cell_type": "markdown",
      "source": [
        "To copy an object, instead of creating a view, use the method `.copy()` (which works on most objects). The following code creates a copy of `a` into `c`; changing `c` now does not change `a`."
      ],
      "metadata": {
        "id": "orFj5Q_iuAGF"
      }
    },
    {
      "cell_type": "code",
      "source": [
        "a = [1, 2, 3]\n",
        "c = a.copy()\n",
        "c[2] = 4\n",
        "print(a)  # What do you expect now?"
      ],
      "metadata": {
        "id": "N0Q1cjqSNRsO"
      },
      "execution_count": null,
      "outputs": []
    },
    {
      "cell_type": "markdown",
      "source": [
        "## References in lists\n",
        "\n",
        "Let's walk through this commented code:"
      ],
      "metadata": {
        "id": "0Qq7om_Q0STe"
      }
    },
    {
      "cell_type": "code",
      "source": [
        "# Start two empty lists.\n",
        "a = []\n",
        "b = []\n",
        "\n",
        "# The two lists are the equal, i.e. empty.\n",
        "print(\"a == b:\", a == b)\n",
        "\n",
        "# But the two empty lists are at different addresses:\n",
        "print(\"Address of a:\", hex(id(a)))\n",
        "print(\"Address of b:\", hex(id(b)))\n",
        "print(\"Same address (a, b):\", id(a) == id(b))\n",
        "\n",
        "\n",
        "# And that's how adding an element to one list does not affect the other list.\n",
        "a.append(1)\n",
        "print(\"a =\", a)\n",
        "print(\"b =\", b)\n",
        "\n",
        "# This assignment just copies the memory address.\n",
        "c = a\n",
        "print(\"Address of c:\", hex(id(c)))\n",
        "print(\"Same address (a, c):\", id(a) == id(c))\n",
        "c.append(2)\n",
        "print(a)\n",
        "\n",
        "# Reset a to empty lists.\n",
        "a = []\n",
        "b = []\n",
        "c = a\n",
        "\n",
        "# This compares values: they are equal.\n",
        "print(\"a == b:\", a == b)\n",
        "\n",
        "# This compares references: they are different, changing one changes the other.\n",
        "print(\"a is b:\", a is b)\n",
        "\n",
        "# Compares values: they are equal.\n",
        "print(\"a == c\", a == c)\n",
        "\n",
        "# Compares references: they are the same; appending to one changes the other.\n",
        "print(\"a is c\", a is c)"
      ],
      "metadata": {
        "id": "RQbmbhBA0al3",
        "colab": {
          "base_uri": "https://localhost:8080/"
        },
        "outputId": "35a7c6c5-c9e0-4077-8b7b-c96f694d6788"
      },
      "execution_count": 8,
      "outputs": [
        {
          "output_type": "stream",
          "name": "stdout",
          "text": [
            "a == b: True\n",
            "Address of a: 0x7ca4c448eb40\n",
            "Address of b: 0x7ca4d8d1cfc0\n",
            "Same address (a, b): False\n"
          ]
        }
      ]
    },
    {
      "cell_type": "markdown",
      "source": [
        "## Unique integers\n",
        "\n",
        "Your turn: check if integers are unique objects or not."
      ],
      "metadata": {
        "id": "4n5eQFK67KCF"
      }
    },
    {
      "cell_type": "code",
      "source": [
        "# TODO: write code to see if integers are unique objects or not, then answer\n",
        "# the poll."
      ],
      "metadata": {
        "id": "FQfaev4F1Kqh"
      },
      "execution_count": null,
      "outputs": []
    },
    {
      "cell_type": "markdown",
      "source": [
        "## Local scoping\n",
        "\n",
        "Variables defined inside a function only exist in that function. For example, this code throws a `NameError`:"
      ],
      "metadata": {
        "id": "KKX0hrP87o6E"
      }
    },
    {
      "cell_type": "code",
      "source": [
        "def square(arg):\n",
        "  local_var = arg ** 2\n",
        "  return local_var\n",
        "\n",
        "a = 2\n",
        "square(a)\n",
        "print(local_var)  # <- Throws a NameError\n",
        "print(arg)  # <- Throws a NameError too"
      ],
      "metadata": {
        "id": "DCgvX-IycqMz"
      },
      "execution_count": null,
      "outputs": []
    },
    {
      "cell_type": "markdown",
      "source": [
        "Why do these two functions behave differently?"
      ],
      "metadata": {
        "id": "OEaJ86C_ncQG"
      }
    },
    {
      "cell_type": "code",
      "source": [
        "def append1(a_list):\n",
        "  a_list.append(\"buckle my shoe\")\n",
        "\n",
        "def append2(a_list):\n",
        "  a_list = a_list + [\"buckle my shoe\"]\n",
        "\n",
        "\n",
        "list_1 = [1, 2]\n",
        "list_2 = [1, 2]\n",
        "append1(list_1)\n",
        "print(list_1)\n",
        "append2(list_2)\n",
        "print(list_2)\n"
      ],
      "metadata": {
        "id": "jQwQdkWBn-uz"
      },
      "execution_count": null,
      "outputs": []
    },
    {
      "cell_type": "markdown",
      "source": [
        "## Pass by value vs. pass by reference"
      ],
      "metadata": {
        "id": "OezqWGf1eHJX"
      }
    },
    {
      "cell_type": "markdown",
      "source": [
        "In Python, arguments are passed \"by reference\". That is, when you call a function on an argument, Python gives that function the memory address of the argument."
      ],
      "metadata": {
        "id": "VJQRyeN-iEr7"
      }
    },
    {
      "cell_type": "code",
      "source": [
        "def string_append(a):  # <- a is defined here\n",
        "  print(id(a))\n",
        "  a += \"buckle my shoe\"\n",
        "  return a\n",
        "\n",
        "b = \"12\"\n",
        "print(id(b))\n",
        "string_append(b)  # <- When the function runs, the variable a will point to\n",
        "                  # the same memory address as b."
      ],
      "metadata": {
        "id": "NItm_b7shn9U"
      },
      "execution_count": null,
      "outputs": []
    },
    {
      "cell_type": "markdown",
      "source": [
        "The following functions add some text at the end of the argument passed to the function. Do you expect them to behave the same way for strings and lists?"
      ],
      "metadata": {
        "id": "1wQixsp8f2lA"
      }
    },
    {
      "cell_type": "code",
      "source": [
        "def string_append(a):\n",
        "  a += \"buckle my shoe\"\n",
        "  return a\n",
        "\n",
        "def list_append(a):\n",
        "  a.append(\"buckle my shoe\")\n",
        "  return a\n",
        "\n",
        "b = \"12\"\n",
        "print(string_append(b))\n",
        "print(b)\n",
        "c = [\"1\", \"2\"]\n",
        "print(list_append(c))\n",
        "print(c)"
      ],
      "metadata": {
        "id": "m4MwR8ClfRrC"
      },
      "execution_count": null,
      "outputs": []
    }
  ]
}