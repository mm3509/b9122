{
  "nbformat": 4,
  "nbformat_minor": 0,
  "metadata": {
    "colab": {
      "provenance": []
    },
    "kernelspec": {
      "name": "python3",
      "display_name": "Python 3"
    },
    "language_info": {
      "name": "python"
    }
  },
  "cells": [
    {
      "cell_type": "markdown",
      "source": [
        "# User input"
      ],
      "metadata": {
        "id": "vE0CF8bDkytK"
      }
    },
    {
      "cell_type": "code",
      "source": [
        "answer = input(\"Please write something: \")\n",
        "print(\"You wrote:\", answer)\n",
        "print(\"Data type: \", type(answer))"
      ],
      "metadata": {
        "colab": {
          "base_uri": "https://localhost:8080/"
        },
        "id": "nKq2fPnsk00J",
        "outputId": "e8339153-050b-44ac-da8b-786edcdc0e82"
      },
      "execution_count": 2,
      "outputs": [
        {
          "output_type": "stream",
          "name": "stdout",
          "text": [
            "Please write something: 100\n",
            "You wrote: 100\n",
            "Data type:  <class 'str'>\n"
          ]
        }
      ]
    },
    {
      "cell_type": "markdown",
      "source": [
        "# Conditionals\n",
        "\n",
        "## if"
      ],
      "metadata": {
        "id": "OTpxt55SkdmR"
      }
    },
    {
      "cell_type": "code",
      "execution_count": 1,
      "metadata": {
        "colab": {
          "base_uri": "https://localhost:8080/"
        },
        "id": "JcoQPKblkDXw",
        "outputId": "713e5f7e-82c2-4c11-bcae-f3b3f8ca5249"
      },
      "outputs": [
        {
          "output_type": "stream",
          "name": "stdout",
          "text": [
            "Would you like hear a joke? yes\n",
            "What do lawyers wear to courts? Lawsuits!\n"
          ]
        }
      ],
      "source": [
        "import random\n",
        "\n",
        "jokes = [\n",
        "    \"What do you get when you cross a snowman with a vampire? Frostbite!\",\n",
        "    \"What cheese is made backwards? Edam!\",\n",
        "    \"What do lawyers wear to courts? Lawsuits!\",\n",
        "    \"What do you call a grizzly bear with no teeth? A gummy bear\"\n",
        "]\n",
        "\n",
        "answer = input(\"Would you like hear a joke? \")\n",
        "\n",
        "if answer == \"yes\":\n",
        "    print(random.choice(jokes))\n"
      ]
    },
    {
      "cell_type": "markdown",
      "source": [
        "## if, else"
      ],
      "metadata": {
        "id": "PSn3NOrdkjBh"
      }
    },
    {
      "cell_type": "code",
      "source": [
        "price = int(input(\"What is the price? \"))\n",
        "\n",
        "if price > 50:\n",
        "    print(f\"Price is high at {price}, sell now\")\n",
        "else:\n",
        "    print(f\"Price is low at {price}, buy now\")"
      ],
      "metadata": {
        "id": "1bA3hFNVkaMP"
      },
      "execution_count": null,
      "outputs": []
    },
    {
      "cell_type": "markdown",
      "source": [
        "## if, elif, else"
      ],
      "metadata": {
        "id": "BJ_PZIwxkqoK"
      }
    },
    {
      "cell_type": "code",
      "source": [
        "price = int(input(\"What is the price? \"))\n",
        "\n",
        "if price > 80:\n",
        "    print(f\"Price is high at {price}, sell now\")\n",
        "elif price < 20:\n",
        "    print(f\"Price is low at {price}, buy now\")\n",
        "else:\n",
        "    print(\"Price is stable: do nothing\")\n"
      ],
      "metadata": {
        "id": "aT0a-8ixktoc"
      },
      "execution_count": null,
      "outputs": []
    },
    {
      "cell_type": "markdown",
      "source": [
        "# Operators\n",
        "\n",
        "## Equality: `==`"
      ],
      "metadata": {
        "id": "OkC8UdcMljdR"
      }
    },
    {
      "cell_type": "code",
      "source": [
        "answer = \"yes\"\n",
        "print(answer == \"yes\")  # True\n",
        "print(answer == \"no\")  # False"
      ],
      "metadata": {
        "colab": {
          "base_uri": "https://localhost:8080/"
        },
        "id": "LgrbJ8pnlmcB",
        "outputId": "f64aedb3-cbf2-4140-fc30-3f5ce89e7cda"
      },
      "execution_count": 5,
      "outputs": [
        {
          "output_type": "stream",
          "name": "stdout",
          "text": [
            "True\n",
            "False\n"
          ]
        }
      ]
    },
    {
      "cell_type": "markdown",
      "source": [
        "## Not equality: `!=`"
      ],
      "metadata": {
        "id": "vGCIcq1iludr"
      }
    },
    {
      "cell_type": "code",
      "source": [
        "answer = \"no\"\n",
        "print(answer != \"yes\")  # True\n",
        "print(answer != \"no\")  # False"
      ],
      "metadata": {
        "colab": {
          "base_uri": "https://localhost:8080/"
        },
        "id": "ccOgLlX8lsqz",
        "outputId": "63c2ad6b-3e40-4c1e-80ec-7fcc2a6e0076"
      },
      "execution_count": 6,
      "outputs": [
        {
          "output_type": "stream",
          "name": "stdout",
          "text": [
            "True\n",
            "False\n"
          ]
        }
      ]
    },
    {
      "cell_type": "markdown",
      "source": [
        "## Strict comparison: `>`, `<`"
      ],
      "metadata": {
        "id": "WsjgGtR6mXVq"
      }
    },
    {
      "cell_type": "code",
      "source": [
        "print(10 > 12)  # False\n",
        "print(10 < 12)  # True"
      ],
      "metadata": {
        "colab": {
          "base_uri": "https://localhost:8080/"
        },
        "id": "cf1ftExEl1ka",
        "outputId": "57248b2a-4061-425e-a715-d6c8a0b24392"
      },
      "execution_count": 8,
      "outputs": [
        {
          "output_type": "stream",
          "name": "stdout",
          "text": [
            "False\n",
            "True\n"
          ]
        }
      ]
    },
    {
      "cell_type": "markdown",
      "source": [
        "## Non-strict comparison: `>=`, `<=`"
      ],
      "metadata": {
        "id": "MAAyDeZTmg8t"
      }
    },
    {
      "cell_type": "code",
      "source": [
        "print(1 + 1 + 1 >= 3)\n",
        "print(1 + 1 + 1 <= 3)"
      ],
      "metadata": {
        "colab": {
          "base_uri": "https://localhost:8080/"
        },
        "id": "2PnSQCE4mc76",
        "outputId": "d18e61a1-aab9-4ac7-c9e1-1fc722448b3c"
      },
      "execution_count": 9,
      "outputs": [
        {
          "output_type": "stream",
          "name": "stdout",
          "text": [
            "True\n",
            "True\n"
          ]
        }
      ]
    },
    {
      "cell_type": "markdown",
      "source": [
        "## Negation: `not`"
      ],
      "metadata": {
        "id": "RAbn_Ah0mngw"
      }
    },
    {
      "cell_type": "code",
      "source": [
        "print(not True)  # False\n",
        "print(not False)  # True\n",
        "print(not 1 + 1 + 1 >= 3)  # False"
      ],
      "metadata": {
        "colab": {
          "base_uri": "https://localhost:8080/"
        },
        "id": "TXE2CcUFmlWZ",
        "outputId": "76caf932-7e87-463d-91c9-2cb6dbc6e729"
      },
      "execution_count": 10,
      "outputs": [
        {
          "output_type": "stream",
          "name": "stdout",
          "text": [
            "False\n",
            "True\n",
            "False\n"
          ]
        }
      ]
    },
    {
      "cell_type": "markdown",
      "source": [
        "## And: `and`"
      ],
      "metadata": {
        "id": "UKtBm7eBm0nl"
      }
    },
    {
      "cell_type": "code",
      "source": [
        "username = \"admin\"\n",
        "password = \"1234\"\n",
        "print(username == \"admin\" and password == \"1234\")  # True\n",
        "password = \"wrong password\"\n",
        "print(username == \"admin\" and password == \"1234\")  # False"
      ],
      "metadata": {
        "colab": {
          "base_uri": "https://localhost:8080/"
        },
        "id": "9jinIWrJmyNr",
        "outputId": "8a67c484-6baf-4cc7-ccd5-0ca5d21ee8a6"
      },
      "execution_count": 13,
      "outputs": [
        {
          "output_type": "stream",
          "name": "stdout",
          "text": [
            "True\n",
            "False\n"
          ]
        }
      ]
    },
    {
      "cell_type": "markdown",
      "source": [
        "## Or: `or`"
      ],
      "metadata": {
        "id": "0XzgPUEjnJOT"
      }
    },
    {
      "cell_type": "code",
      "source": [
        "answer = \"yes\"\n",
        "print(answer == \"Yes\" or answer == \"yes\")  # True\n",
        "print(answer == \"No\" or answer == \"no\")  # False"
      ],
      "metadata": {
        "colab": {
          "base_uri": "https://localhost:8080/"
        },
        "id": "iX-8jQYcnLSC",
        "outputId": "13884c7a-e3e5-4fdf-fd79-a35079b7e131"
      },
      "execution_count": 16,
      "outputs": [
        {
          "output_type": "stream",
          "name": "stdout",
          "text": [
            "True\n",
            "False\n"
          ]
        }
      ]
    },
    {
      "cell_type": "markdown",
      "source": [
        "## Inclusion: `in`\n",
        "\n",
        "This tests whether a value is in an iterable, e.g. an element in a list or a character in a string.\n",
        "\n"
      ],
      "metadata": {
        "id": "UGzt7j0LnYbK"
      }
    },
    {
      "cell_type": "code",
      "source": [
        "print(\"d\" in \"hello\")  # False\n",
        "print(\"d\" in \"goodbye\")  # True\n",
        "print(\"d\" in \"GOODBYE\")  # False\n",
        "\n",
        "nyc = [\"Manhattan\", \"Brooklyn\", \"Bronx\", \"Queens\", \"Staten Island\"]\n",
        "print(\"Manhattan\" in nyc)  # True"
      ],
      "metadata": {
        "colab": {
          "base_uri": "https://localhost:8080/"
        },
        "id": "03S4VPC9nSN7",
        "outputId": "987f79b3-68e7-4b47-a5ce-44de28d1d343"
      },
      "execution_count": 18,
      "outputs": [
        {
          "output_type": "stream",
          "name": "stdout",
          "text": [
            "False\n",
            "True\n",
            "False\n",
            "True\n"
          ]
        }
      ]
    },
    {
      "cell_type": "markdown",
      "source": [
        "## Logic practice\n",
        "\n",
        "Read each line, think what the boolean should be, then run it to see if you were right. With parentheses, the math rules apply: evaluate inside parentheses first."
      ],
      "metadata": {
        "id": "9PpFNo3UoLwb"
      }
    },
    {
      "cell_type": "code",
      "source": [
        "True and True\n",
        "False and True\n",
        "(1 == 1) and (2 == 1)\n",
        "\"love\" == \"love\"\n",
        "(1 == 1) or (2 != 1)\n",
        "True and (1 == 1)\n",
        "False and (0 != 0)\n",
        "True or (1 == 1)\n",
        "\"time\" == \"money\"\n",
        "(1 != 0) and (2 == 1)\n",
        "\"I Can't Believe It's Not Butter!\" != \"butter\"\n",
        "\"one\" == 1\n",
        "not (True and False)\n",
        "not ((1 == 1) and (0 != 1))\n",
        "not ((10 == 1) or (1000 == 1000))\n",
        "not ((1 != 10) or (3 == 4))\n",
        "not ((\"love\" == \"love\") and (\"time\" == \"money\"))\n",
        "(1 == 1) and (not ((\"one\" == 1) or (1 == 0)))\n",
        "(\"chunky\" == \"bacon\") and (not ((3 == 4) or (3 == 3)))\n",
        "(3 == 3) and (not ((\"love\" == \"love\") or (\"Python\" == \"Fun\")))"
      ],
      "metadata": {
        "id": "umzRi2OpnwVr"
      },
      "execution_count": null,
      "outputs": []
    }
  ]
}