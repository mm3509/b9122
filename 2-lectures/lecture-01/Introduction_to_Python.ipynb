{
  "nbformat": 4,
  "nbformat_minor": 0,
  "metadata": {
    "colab": {
      "provenance": []
    },
    "kernelspec": {
      "name": "python3",
      "display_name": "Python 3"
    },
    "language_info": {
      "name": "python"
    }
  },
  "cells": [
    {
      "cell_type": "markdown",
      "source": [
        "# Introduction to Python\n",
        "\n",
        "This notebook summarizes what you should know in Python for the midterm. Read each piece of cell of text, read each cell of code, anticipate what it is going to do, execute it, and confirm your understanding."
      ],
      "metadata": {
        "id": "EYjLOYTBhpuS"
      }
    },
    {
      "cell_type": "markdown",
      "source": [
        "## Booleans\n",
        "\n",
        "A boolean is a binary constant, 0 or 1, True or False. We manipulate them with `or`, `and` and `not`."
      ],
      "metadata": {
        "id": "b-nrqhiazoqa"
      }
    },
    {
      "cell_type": "code",
      "source": [
        "print(True or False)\n",
        "print(False and True)\n",
        "print(not False)"
      ],
      "metadata": {
        "id": "o708QwZJidGy"
      },
      "execution_count": null,
      "outputs": []
    },
    {
      "cell_type": "markdown",
      "source": [
        "We can use comparison operators with the same meaning as in real life: <, <=, >, >=. `==` tests whether the values are equal, `!=` does the opposite."
      ],
      "metadata": {
        "id": "OkbRrBmujJP9"
      }
    },
    {
      "cell_type": "code",
      "source": [
        "print(True == False)\n",
        "print(1 < 2)\n",
        "print(0 != 1)"
      ],
      "metadata": {
        "id": "-r9FADa5ja6d"
      },
      "execution_count": null,
      "outputs": []
    },
    {
      "cell_type": "markdown",
      "source": [
        "## Variables\n",
        "\n",
        "A variable is a shortcut, or placeholder for a value. We can change its value (it's variable!) and access it at any time:"
      ],
      "metadata": {
        "id": "EC2WIo2Bm4dp"
      }
    },
    {
      "cell_type": "code",
      "source": [
        "a = True\n",
        "print(a)\n",
        "a = False\n",
        "print(a)\n"
      ],
      "metadata": {
        "id": "h4xXKBavnJ7q"
      },
      "execution_count": null,
      "outputs": []
    },
    {
      "cell_type": "markdown",
      "source": [
        "When variables are numbers, we can do math with them:"
      ],
      "metadata": {
        "id": "xGR7VSkOnTlI"
      }
    },
    {
      "cell_type": "code",
      "source": [
        "a = 2\n",
        "b = 3\n",
        "print(a + b)\n",
        "print(a * b)"
      ],
      "metadata": {
        "id": "0cJA2xrmna10"
      },
      "execution_count": null,
      "outputs": []
    },
    {
      "cell_type": "markdown",
      "source": [
        "We can increment or decrement a variable with an integer using \"augmented assignment operators\":"
      ],
      "metadata": {
        "id": "sOFm6UeNnhJV"
      }
    },
    {
      "cell_type": "code",
      "source": [
        "a = 0\n",
        "a += 1  # Same as: a = a + 1\n",
        "print(a)\n",
        "a *= 3  # Same as: a = a * 3\n",
        "print(a)\n",
        "a -= 1  # Same as: a = a - 1\n",
        "print(a)"
      ],
      "metadata": {
        "id": "zfuzGjdhno5Y"
      },
      "execution_count": null,
      "outputs": []
    },
    {
      "cell_type": "markdown",
      "source": [
        "## Casting\n",
        "\n",
        "You can convert values to other types with the built-in keywords like `int()` and `list()`. For example, to convert a decimal (called a float) to an integer:"
      ],
      "metadata": {
        "id": "5bvZwmu7rgio"
      }
    },
    {
      "cell_type": "code",
      "source": [
        "a = 1.5\n",
        "print(int(a))"
      ],
      "metadata": {
        "id": "yLUA4RXBrvAs"
      },
      "execution_count": null,
      "outputs": []
    },
    {
      "cell_type": "markdown",
      "source": [
        "## Conditionals\n",
        "\n",
        "A conditional helps us control execution depending on booleans. If a boolean is True, we execute a piece of code; otherwise, we execute another piece."
      ],
      "metadata": {
        "id": "9QfrV1SSilFq"
      }
    },
    {
      "cell_type": "code",
      "source": [
        "b = True\n",
        "if b:\n",
        "    print(\"Boolean is True\")\n",
        "else:\n",
        "    print(\"Boolean is False\")"
      ],
      "metadata": {
        "id": "dEejm8WOi2Ss"
      },
      "execution_count": null,
      "outputs": []
    },
    {
      "cell_type": "markdown",
      "source": [
        "We can also chain multiple if conditions thanks to the keyword `elif`:"
      ],
      "metadata": {
        "id": "iT-DEOswi_E9"
      }
    },
    {
      "cell_type": "code",
      "source": [
        "a = False\n",
        "b = True\n",
        "if a:\n",
        "    print(\"a is True\")\n",
        "elif b:\n",
        "    print(\"b is True\")\n",
        "else:\n",
        "    print(\"Both Booleans are False\")"
      ],
      "metadata": {
        "id": "Bcgovm1UjDcS"
      },
      "execution_count": null,
      "outputs": []
    },
    {
      "cell_type": "markdown",
      "source": [
        "## List manipulation\n",
        "\n",
        "A list is a sequence of values of any type. Construct a new list with `[]`:"
      ],
      "metadata": {
        "id": "Tvtl-MlXjg20"
      }
    },
    {
      "cell_type": "code",
      "source": [
        "a = [1, 2, 3]\n",
        "print(a)"
      ],
      "metadata": {
        "id": "20L3VzBwjro_"
      },
      "execution_count": null,
      "outputs": []
    },
    {
      "cell_type": "markdown",
      "source": [
        "You access the list values with square brackets and the item position, for example `[0]`. This is called **indexing**. The index **starts at 0**."
      ],
      "metadata": {
        "id": "_vifgTQHjvGV"
      }
    },
    {
      "cell_type": "code",
      "source": [
        "print(a[0])"
      ],
      "metadata": {
        "id": "pqcvCW8LkBwV"
      },
      "execution_count": null,
      "outputs": []
    },
    {
      "cell_type": "markdown",
      "source": [
        "You can append an element to a list with the method `.append()` (a method is a function attached to an object; for example, `.sort()` is a method and `sorted()` is a function):"
      ],
      "metadata": {
        "id": "lVDWWTCbkFAX"
      }
    },
    {
      "cell_type": "code",
      "source": [
        "a = [1, 2, 3]\n",
        "a.append(4)\n",
        "print(a)"
      ],
      "metadata": {
        "id": "X_whrVJtkP-9"
      },
      "execution_count": null,
      "outputs": []
    },
    {
      "cell_type": "markdown",
      "source": [
        "You can remove an element by **value** from a list with `.remove()`:"
      ],
      "metadata": {
        "id": "d1iWoPuIkVcg"
      }
    },
    {
      "cell_type": "code",
      "source": [
        "a = [\"Manhattan\", \"Manhattan\", \"Brooklyn\", \"Manhattan\"]\n",
        "a.remove(\"Manhattan\")"
      ],
      "metadata": {
        "id": "0OwkTtXMkUuu"
      },
      "execution_count": null,
      "outputs": []
    },
    {
      "cell_type": "markdown",
      "source": [
        "You can remove an element from a list by **index** with `.pop()`:"
      ],
      "metadata": {
        "id": "4SiVWqMSkhsp"
      }
    },
    {
      "cell_type": "code",
      "source": [
        "a = [\"Manhattan\", \"Brooklyn\"]\n",
        "a.pop(0)\n",
        "print(a)"
      ],
      "metadata": {
        "id": "P58krkocknXF"
      },
      "execution_count": null,
      "outputs": []
    },
    {
      "cell_type": "markdown",
      "source": [
        "You can concatenate lists with `+`:"
      ],
      "metadata": {
        "id": "6_pD64HGktJJ"
      }
    },
    {
      "cell_type": "code",
      "source": [
        "a = [1, 2]\n",
        "b = [\"buckle\", \"my\", \"shoe\"]\n",
        "c = a + b\n",
        "print(c)"
      ],
      "metadata": {
        "id": "cHsE-mwckv9M"
      },
      "execution_count": null,
      "outputs": []
    },
    {
      "cell_type": "markdown",
      "source": [
        "## List slicing\n",
        "\n",
        "You can access elements of a list with \"slicing\" notation and `:`: left of the colon is the start index (default is 0), right of the colon is the end index (default is the length of the list), and you get all the elements in between (excluding the end index):"
      ],
      "metadata": {
        "id": "S4-aGz2ak5T_"
      }
    },
    {
      "cell_type": "code",
      "source": [
        "a = [\"zero\", \"one\", \"two\", \"three\", \"four\"]\n",
        "print(a[:2])\n",
        "print(a[1:])\n",
        "print(a[1:3])"
      ],
      "metadata": {
        "id": "Lg4hMpFQlKud"
      },
      "execution_count": null,
      "outputs": []
    },
    {
      "cell_type": "markdown",
      "source": [
        "You can specify a third argument in the slicing notation, which is the step. For example `[0:10:3]` returns every third element, starting with element 0 and up to (but excluding) element 10. In this example, we print odd numbers up to (but excluding) 6:"
      ],
      "metadata": {
        "id": "N6tMCde8qANC"
      }
    },
    {
      "cell_type": "code",
      "source": [
        "a = [\"zero\", \"one\", \"two\", \"three\", \"four\", \"five\", \"six\"]\n",
        "print(a[1:6:2])"
      ],
      "metadata": {
        "id": "j_rd5EuCqOeE"
      },
      "execution_count": null,
      "outputs": []
    },
    {
      "cell_type": "markdown",
      "source": [
        "## Dictionaries\n",
        "\n",
        "A dictionary is a data structure where keys maps to value, similar to a dictionary in the real world where a you look up a word (a key) and get a definition (a value). Even though a word may have several meanings, such as \"lead\" (the verb) and \"lead\" (the metal), they are all stored in the same entry. Similarly, a dictionary in Python has only one entry for each key.\n",
        "\n",
        "You declare them with curly braces and access the values with square brackets."
      ],
      "metadata": {
        "id": "xINALWCklaim"
      }
    },
    {
      "cell_type": "code",
      "source": [
        "spelling = {0: \"zero\", 1: \"one\", 2: \"two\"}\n",
        "print(spelling[0])"
      ],
      "metadata": {
        "id": "JLOOYePol2UV"
      },
      "execution_count": null,
      "outputs": []
    },
    {
      "cell_type": "markdown",
      "source": [
        "The keys are often integers or strings, but can be any immutable object. For example, here the keys are strings:"
      ],
      "metadata": {
        "id": "0SwmjPjLmBla"
      }
    },
    {
      "cell_type": "code",
      "source": [
        "from_string_to_int = {\"one\": 1, \"two\": 2}\n",
        "print(from_string_to_int[\"one\"])"
      ],
      "metadata": {
        "id": "UI9fzgZ1mQSS"
      },
      "execution_count": null,
      "outputs": []
    },
    {
      "cell_type": "markdown",
      "source": [
        "The values can be anything. In this example the value is another dictionary and we access it by repeating the square brackets."
      ],
      "metadata": {
        "id": "FBc8iNVsmYCy"
      }
    },
    {
      "cell_type": "code",
      "source": [
        "students = {\"uni1\": {\"email\": \"uni1@columbia.edu\", \"grade\": 100}}\n",
        "print(students[\"uni1\"][\"email\"])"
      ],
      "metadata": {
        "id": "MCJuE_0smb1F"
      },
      "execution_count": null,
      "outputs": []
    },
    {
      "cell_type": "markdown",
      "source": [
        "A dictionary has two very useful methods: `.keys()` returns a sequence of keys, and `.values()` returns a sequence of values. (Although they are called \"iterators\", at your level you can consider these sequences to be lists; to avoid confusion, I convert these to a list before printing):"
      ],
      "metadata": {
        "id": "-3bHQLorq7Zx"
      }
    },
    {
      "cell_type": "code",
      "source": [
        "a = {\"one\": 1, \"two\": 2}\n",
        "print(list(a.keys()))\n",
        "print(list(a.values()))"
      ],
      "metadata": {
        "id": "MNRI-oQprEI1"
      },
      "execution_count": null,
      "outputs": []
    },
    {
      "cell_type": "markdown",
      "source": [
        "You can initialize a dictionary with multiple keys at the same value with this syntax:"
      ],
      "metadata": {
        "id": "PG4NXXUQbCp2"
      }
    },
    {
      "cell_type": "code",
      "source": [
        "dict.fromkeys([\"uni1\", \"uni2\", \"uni3\"], 0)"
      ],
      "metadata": {
        "id": "gMgFInmpbIeH"
      },
      "execution_count": null,
      "outputs": []
    },
    {
      "cell_type": "markdown",
      "source": [
        "## Tuples\n",
        "\n",
        "Tuples are like lists, but are immutable, i.e. they cannot be changed. You declare them with parentheses and access their values with square brackets."
      ],
      "metadata": {
        "id": "DAV_vQy1nzkG"
      }
    },
    {
      "cell_type": "code",
      "source": [
        "a = (\"zero\", \"one\", \"two\")\n",
        "print(a[0])"
      ],
      "metadata": {
        "id": "jEfBtz3pn-YJ"
      },
      "execution_count": null,
      "outputs": []
    },
    {
      "cell_type": "markdown",
      "source": [
        "Aside from the inability to change them, you can use tuples like you would use lists, for example with slicing notation:"
      ],
      "metadata": {
        "id": "tWc1r4AaoNHl"
      }
    },
    {
      "cell_type": "code",
      "source": [
        "a = (0, 1, 2, 3)\n",
        "print(a[1:3])"
      ],
      "metadata": {
        "id": "izRyn7bFoQuS"
      },
      "execution_count": null,
      "outputs": []
    },
    {
      "cell_type": "markdown",
      "source": [
        "You can \"unpack\" a tuple by assigning it to multiple variables with a comma:"
      ],
      "metadata": {
        "id": "Hy79GDVYspC8"
      }
    },
    {
      "cell_type": "code",
      "source": [
        "x = (1, 2, 3)\n",
        "a, b, c = x\n",
        "print(a)\n",
        "print(b)\n",
        "print(c)"
      ],
      "metadata": {
        "id": "uTyVUwtcswg2"
      },
      "execution_count": null,
      "outputs": []
    },
    {
      "cell_type": "markdown",
      "source": [
        "## For loops\n",
        "\n",
        "A for loop lets you iterate a variable over certain values, typically a list. The syntax is this:"
      ],
      "metadata": {
        "id": "G0gz-3hKoV8P"
      }
    },
    {
      "cell_type": "code",
      "source": [
        "for i in [1, 2, 3]:\n",
        "    print(i)"
      ],
      "metadata": {
        "id": "MhT8zExzowIp"
      },
      "execution_count": null,
      "outputs": []
    },
    {
      "cell_type": "markdown",
      "source": [
        "You will very often iterate over a range of values using the function `range(n)`, which returns a range of values from 0 to `n-1`. Here we just print the first 5 integers:"
      ],
      "metadata": {
        "id": "XTr0Fx3qpBRN"
      }
    },
    {
      "cell_type": "code",
      "source": [
        "for i in range(5):\n",
        "    print(i)"
      ],
      "metadata": {
        "id": "1NTzbQtxpQ7S"
      },
      "execution_count": null,
      "outputs": []
    },
    {
      "cell_type": "markdown",
      "source": [
        "You can combine for loops with booleans and conditionals. For example, here we print which days of the month divisible by 3 or by 5 (using the modulo operator, `%`, which gives the remainder of an integer division, i.e. `5 % 2` gives 1):"
      ],
      "metadata": {
        "id": "OTnjod9YpVgZ"
      }
    },
    {
      "cell_type": "code",
      "source": [
        "for i in range(30):\n",
        "    if i % 5 == 0 or i % 3 == 0:\n",
        "        print(i)"
      ],
      "metadata": {
        "id": "74mXvIOWpUo1"
      },
      "execution_count": null,
      "outputs": []
    },
    {
      "cell_type": "markdown",
      "source": [
        "## For loops for dictionaries\n",
        "\n",
        "Typically, you will iterate over the values of a list or a tuple. You can also iterate over the keys of a dictionary:"
      ],
      "metadata": {
        "id": "7zCgCqSCqgIq"
      }
    },
    {
      "cell_type": "code",
      "source": [
        "a = {0: \"zero\", 1: \"one\", 2: \"two\"}\n",
        "for key in a.keys():\n",
        "    print(a[key])"
      ],
      "metadata": {
        "id": "EHLZA5fgqnPs"
      },
      "execution_count": null,
      "outputs": []
    },
    {
      "cell_type": "markdown",
      "source": [
        "In a for loop, you can also omit `.keys()`, which implicitly assumes you want to iterate over the keys of the dictionary:"
      ],
      "metadata": {
        "id": "hF8KoXpnq02y"
      }
    },
    {
      "cell_type": "code",
      "source": [
        "a = {0: \"zero\", 1: \"one\", 2: \"two\"}\n",
        "for key in a:\n",
        "    print(a[key])"
      ],
      "metadata": {
        "id": "JUQ6ZqsmsGE3"
      },
      "execution_count": null,
      "outputs": []
    },
    {
      "cell_type": "markdown",
      "source": [
        "You can also use the key and value directly with this syntax:"
      ],
      "metadata": {
        "id": "wSnnpzZXsMCy"
      }
    },
    {
      "cell_type": "code",
      "source": [
        "a = {0: \"zero\", 1: \"one\", 2: \"two\"}\n",
        "for key, value in a.items():\n",
        "    print(key, value)"
      ],
      "metadata": {
        "id": "GV4uE7tgsZhK"
      },
      "execution_count": null,
      "outputs": []
    },
    {
      "cell_type": "markdown",
      "source": [
        "## While loop\n",
        "\n",
        "Another type of loop does not know when to stop and could run indefinitely. The syntax is:"
      ],
      "metadata": {
        "id": "LP4vOQB4s7Ha"
      }
    },
    {
      "cell_type": "code",
      "source": [
        "i = 0\n",
        "while i < 10:\n",
        "    print(i)\n",
        "    i += 1"
      ],
      "metadata": {
        "id": "bsGdoO2atGsb"
      },
      "execution_count": null,
      "outputs": []
    },
    {
      "cell_type": "markdown",
      "source": [
        "Although a for loop seems much more natural in this case, there are cases where it is more appropriate. For example, we may want to iterate over a list, while adding or removing items to the list inside the loop. For example, here we add an element at the end when we see the value \"two\":"
      ],
      "metadata": {
        "id": "MtlmcOqjtS_9"
      }
    },
    {
      "cell_type": "code",
      "source": [
        "a = [\"one\", \"two\", \"three\"]\n",
        "while 0 < len(a):\n",
        "    element = a.pop(0)\n",
        "    if element == \"two\":\n",
        "        a.append(\"one more element\")\n",
        "    print(element)"
      ],
      "metadata": {
        "id": "2oShJjvXtpLz"
      },
      "execution_count": null,
      "outputs": []
    },
    {
      "cell_type": "markdown",
      "source": [
        "## List sorting / in-place\n",
        "\n",
        "To sort a list, you can use the method `.sort()` or the function `sorted()`."
      ],
      "metadata": {
        "id": "hcXmdQdSuOtL"
      }
    },
    {
      "cell_type": "markdown",
      "source": [
        "The difference between the two functions is the concept of \"in-place.\" A function works \"in-place\" if it modifies the argument, like `.sort()`. Above, we called it on `a` and did not assign to a new argument; the original variable `a` was changed.\n",
        "\n",
        "`sorted()` does not do this and creates and returns a new list. We then assign it to the variable `c``."
      ],
      "metadata": {
        "id": "2iUSmKHgut6f"
      }
    },
    {
      "cell_type": "code",
      "source": [
        "a = [3, 2, 1]\n",
        "a.sort()\n",
        "print(a)\n",
        "\n",
        "b = [3, 2, 1]\n",
        "c = sorted(b)\n",
        "print(b)\n",
        "print(c)"
      ],
      "metadata": {
        "id": "-4nv2Eh_ujhc"
      },
      "execution_count": null,
      "outputs": []
    },
    {
      "cell_type": "markdown",
      "source": [
        "## Mutable versus immutable\n",
        "\n",
        "A type is a kind of variable, such as integer, list, tuple, dictionary, string. Some types in Python are mutable, for example lists: we can sort them in-place. Other types are immutable and cannot be changed.\n",
        "\n",
        "The main difference between lists and tuples is that tuples are immutable. For example, you cannot sort them in-place and this code throws an error:"
      ],
      "metadata": {
        "id": "kH5ofv4dvHeP"
      }
    },
    {
      "cell_type": "code",
      "source": [
        "a = (3, 2, 1)\n",
        "a.sort()"
      ],
      "metadata": {
        "id": "smZO71Mpvfi7"
      },
      "execution_count": null,
      "outputs": []
    },
    {
      "cell_type": "markdown",
      "source": [
        "but you can use `sorted()`, which does not work \"in-place\" and returns a new list:"
      ],
      "metadata": {
        "id": "m3ODollVvpmr"
      }
    },
    {
      "cell_type": "code",
      "source": [
        "a = (3, 2, 1)\n",
        "sorted(a)"
      ],
      "metadata": {
        "id": "M3U9zIIEvv-9"
      },
      "execution_count": null,
      "outputs": []
    },
    {
      "cell_type": "markdown",
      "source": [
        "## Strings\n",
        "\n",
        "Strings are like lists of characters, but they are immutable. They are declared with single or double quotes."
      ],
      "metadata": {
        "id": "3O_DN4AbuJlI"
      }
    },
    {
      "cell_type": "code",
      "source": [
        "s = \"I don't know\"\n",
        "print(s)"
      ],
      "metadata": {
        "id": "6DIZ-z7EwJ67"
      },
      "execution_count": null,
      "outputs": []
    },
    {
      "cell_type": "markdown",
      "source": [
        "Being like lists, you an use indexing and slicing notation. For clarity, this example uses a string with numbers, but note that the string with the number 0 is different from the number 0 (you'd have to convert between them with casting, using `str()` or `int()`):"
      ],
      "metadata": {
        "id": "MdA-pFAhwVEl"
      }
    },
    {
      "cell_type": "code",
      "source": [
        "s = \"0123456\"\n",
        "print(s[1])\n",
        "print(s[2:5])\n",
        "print(s[2:len(s):2])"
      ],
      "metadata": {
        "id": "_tZv88BAwZr1"
      },
      "execution_count": null,
      "outputs": []
    },
    {
      "cell_type": "markdown",
      "source": [
        "These functions convert the \"case\" of a string to upper or lower:"
      ],
      "metadata": {
        "id": "pOFyS5ZZwwRh"
      }
    },
    {
      "cell_type": "code",
      "source": [
        "s = \"AbCdefGh\"\n",
        "print(s.lower())\n",
        "print(s.upper())"
      ],
      "metadata": {
        "id": "D2ZpSj08w3AS"
      },
      "execution_count": null,
      "outputs": []
    },
    {
      "cell_type": "markdown",
      "source": [
        "You can split a string by another string with the method `.split()`, for example to split a sentence into phrases. The result is a list."
      ],
      "metadata": {
        "id": "Ih5RqxlExBaH"
      }
    },
    {
      "cell_type": "code",
      "source": [
        "s = \"This is a phrase; this is another\"\n",
        "a = s.split(\";\")\n",
        "print(a)"
      ],
      "metadata": {
        "id": "IKnkmFNgxLQC"
      },
      "execution_count": null,
      "outputs": []
    },
    {
      "cell_type": "markdown",
      "source": [
        "## Errors\n",
        "\n",
        "Here is an example of type checking. This function throws a TypeErorr that is hard to understand:"
      ],
      "metadata": {
        "id": "0jXG-xMB6vrg"
      }
    },
    {
      "cell_type": "code",
      "source": [
        "def bad_function(a):\n",
        "  return a / 5\n",
        "\n",
        "bad_function(\"12345\")"
      ],
      "metadata": {
        "id": "4RIWNOZT61yG"
      },
      "execution_count": null,
      "outputs": []
    },
    {
      "cell_type": "markdown",
      "source": [
        "Here is a better function, in defensive programming, that checks the type of the argument before dividing it. The ValueError is more informative and reminds the caller of the function that a bad argument was passed."
      ],
      "metadata": {
        "id": "D86fXgn_Gd-e"
      }
    },
    {
      "cell_type": "code",
      "source": [
        "def good_function(a):\n",
        "  if isinstance(a, str):\n",
        "    raise ValueError(\"Argument must be a number\")\n",
        "\n",
        "  return a / 5\n",
        "\n",
        "fn(\"12345\")"
      ],
      "metadata": {
        "id": "kd065SfkGxO3"
      },
      "execution_count": null,
      "outputs": []
    }
  ]
}