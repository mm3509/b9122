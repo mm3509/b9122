{
  "nbformat": 4,
  "nbformat_minor": 0,
  "metadata": {
    "colab": {
      "provenance": [],
      "collapsed_sections": [
        "EPdOfrlG5Gkb",
        "Vc7yBEHU-lwa",
        "vlRhgkugxa6f"
      ]
    },
    "kernelspec": {
      "name": "python3",
      "display_name": "Python 3"
    },
    "language_info": {
      "name": "python"
    }
  },
  "cells": [
    {
      "cell_type": "markdown",
      "source": [
        "# More on lists\n",
        "\n",
        "## Index"
      ],
      "metadata": {
        "id": "EPdOfrlG5Gkb"
      }
    },
    {
      "cell_type": "markdown",
      "source": [
        "On a sequence (lists, strings), you can get the index of an element with the method `.index()`. It throws an error if the element does not exist."
      ],
      "metadata": {
        "id": "qDM1bPfB5goL"
      }
    },
    {
      "cell_type": "code",
      "source": [
        "a_list = [1, 2, 3]\n",
        "a_string = \"123\"\n",
        "\n",
        "print(a_list.index(2))\n",
        "print(a_string.index(\"2\"))\n",
        "print(a_list.index(-1))"
      ],
      "metadata": {
        "id": "8KtZqb1q5HzV"
      },
      "execution_count": null,
      "outputs": []
    },
    {
      "cell_type": "markdown",
      "source": [
        "## Slice notation\n",
        "\n",
        "You can access elements from a list with slice notation: `some_list[start:stop]`:"
      ],
      "metadata": {
        "id": "sHnmY-NK6iD1"
      }
    },
    {
      "cell_type": "code",
      "source": [
        "address = \"Geffen Hall, 645 West 130th Street, 10027, New York, NY, USA\"\n",
        "elements = address.split(\", \")\n",
        "print(elements[0:2])"
      ],
      "metadata": {
        "id": "Z10WXijx6tS5"
      },
      "execution_count": null,
      "outputs": []
    },
    {
      "cell_type": "markdown",
      "source": [
        "One tricky part is that slice notation __excludes__ the stop index, i.e. the expression excludes the third element:"
      ],
      "metadata": {
        "id": "OyaySTfw7N8d"
      }
    },
    {
      "cell_type": "code",
      "source": [
        "print(elements[0:2] + elements[2:3])\n",
        "print(elements[2])"
      ],
      "metadata": {
        "id": "JsSQU2qc7dOL"
      },
      "execution_count": null,
      "outputs": []
    },
    {
      "cell_type": "markdown",
      "source": [
        "You can use negative indexes to count from the end, e.g. -1 is the last element, -2 the second to last, etc:"
      ],
      "metadata": {
        "id": "g-2DOTFC6ysT"
      }
    },
    {
      "cell_type": "code",
      "source": [
        "print(elements[-1])\n",
        "print(elements[-2])"
      ],
      "metadata": {
        "id": "MBKhDq_I65KP"
      },
      "execution_count": null,
      "outputs": []
    },
    {
      "cell_type": "markdown",
      "source": [
        "You can include negative indexes in slice notation too (but it won't include that element). For example, this code does not include the country:"
      ],
      "metadata": {
        "id": "HPJzKe4a68iR"
      }
    },
    {
      "cell_type": "code",
      "source": [
        "print(elements[-3:-1])"
      ],
      "metadata": {
        "id": "qU85I91q67lI"
      },
      "execution_count": null,
      "outputs": []
    },
    {
      "cell_type": "markdown",
      "source": [
        "You can omit the start index, and Python will start at the beginning:"
      ],
      "metadata": {
        "id": "cASP8_Ns7uHA"
      }
    },
    {
      "cell_type": "code",
      "source": [
        "print(elements[:2])"
      ],
      "metadata": {
        "id": "7SWzpInb7lTf"
      },
      "execution_count": null,
      "outputs": []
    },
    {
      "cell_type": "markdown",
      "source": [
        "You can omit the end index, and Python will end at the last element, and include it:"
      ],
      "metadata": {
        "id": "JHgGBhqQ75D8"
      }
    },
    {
      "cell_type": "code",
      "source": [
        "print(elements[-2:])"
      ],
      "metadata": {
        "id": "djeuPoM-8BqD"
      },
      "execution_count": null,
      "outputs": []
    },
    {
      "cell_type": "markdown",
      "source": [
        "You can add a second colon (:) and a step, for example this prints only the letters that correspond to an even number:"
      ],
      "metadata": {
        "id": "bv91I3hr8Fik"
      }
    },
    {
      "cell_type": "code",
      "source": [
        "import string\n",
        "print(string.ascii_uppercase[::2])"
      ],
      "metadata": {
        "id": "1mDzcLXb8QoS"
      },
      "execution_count": null,
      "outputs": []
    },
    {
      "cell_type": "markdown",
      "source": [
        "The step can be negative. For example, here is one way to print the reverse of the alphabet, excluding A and Z:"
      ],
      "metadata": {
        "id": "hNAfWybD8Ynr"
      }
    },
    {
      "cell_type": "code",
      "source": [
        "print(string.ascii_uppercase[-2:0:-1])"
      ],
      "metadata": {
        "id": "Xz4kXoJf8ff_"
      },
      "execution_count": null,
      "outputs": []
    },
    {
      "cell_type": "markdown",
      "source": [
        "# Sets\n",
        "\n",
        "Sets are the last basic data type we will see. Sets are like a list, but elements are unique. The syntax is `set(<some-iterable>)`, and the iterable can be a list, a string, a range, dictionary keys, etc. For example:"
      ],
      "metadata": {
        "id": "Vc7yBEHU-lwa"
      }
    },
    {
      "cell_type": "code",
      "source": [
        "a_list = [1, 2, 3]\n",
        "a_set = set(a_list)\n",
        "print(a_set)\n",
        "\n",
        "# TODO: convert a string to a set, a tuple to a set, and\n",
        "# dictionary keys to a set, then print the sets.\n",
        "astring = \"abc\"\n",
        "print(set(astring))\n",
        "\n",
        "atuple = (1, 2, \"c\")\n",
        "print(set(atuple))\n",
        "\n",
        "adict = {\"0\": 0, \"1\": 1}\n",
        "print(set(adict))"
      ],
      "metadata": {
        "id": "KaIWUIdc-kkj"
      },
      "execution_count": null,
      "outputs": []
    },
    {
      "cell_type": "markdown",
      "source": [
        "# Data types\n",
        "\n",
        "## Dynamic typing\n",
        "\n",
        " In Python, a variable is given a type (integer, float, string, etc.) based on the current value assigned. (C has static typing, which the morning section will see later.)\n",
        "\n",
        " Here is an example, where `type()` returns the data type of the variable."
      ],
      "metadata": {
        "id": "vlRhgkugxa6f"
      }
    },
    {
      "cell_type": "code",
      "execution_count": null,
      "metadata": {
        "id": "vW4kOf2hxPJh"
      },
      "outputs": [],
      "source": [
        "some_var = 123\n",
        "print(type(some_var))\n",
        "some_var = \"123\"\n",
        "print(type(some_var))"
      ]
    },
    {
      "cell_type": "markdown",
      "source": [
        "Sometimes, unexpected things can happen. For example, what do you expect here?"
      ],
      "metadata": {
        "id": "tv5OkPKoycFg"
      }
    },
    {
      "cell_type": "code",
      "source": [
        "some_var = \"10\"\n",
        "print(\"*\" * 80)\n",
        "print(some_var + 10)"
      ],
      "metadata": {
        "id": "bKbYi8a1xvNQ"
      },
      "execution_count": null,
      "outputs": []
    },
    {
      "cell_type": "markdown",
      "source": [
        "## Tuples\n",
        "\n",
        "Tuples are \"read-only\" lists, i.e. you cannot change them (they are \"immutable\"). Other than that, they work exactly like lists. They use parentheses instead of square brackets:"
      ],
      "metadata": {
        "id": "wU1UW6ApzWIJ"
      }
    },
    {
      "cell_type": "code",
      "source": [
        "some_list = [1, 2, 3]\n",
        "some_tuple = (1, 2, 3)\n",
        "\n",
        "some_list[0] = 0\n",
        "some_list.append(0)\n",
        "print(some_list)\n",
        "\n",
        "#some_tuple[0] = 0\n",
        "#some_tuple.append(4)\n",
        "print(some_tuple[0])"
      ],
      "metadata": {
        "id": "pUOoy53iyq7B"
      },
      "execution_count": null,
      "outputs": []
    },
    {
      "cell_type": "markdown",
      "source": [
        "## Casting / conversion between types"
      ],
      "metadata": {
        "id": "Bx2sZUbfJ3Q_"
      }
    },
    {
      "cell_type": "markdown",
      "source": [
        "When using numbers, Python knows which \"type of box to use\":"
      ],
      "metadata": {
        "id": "KjBRcKEqK1uT"
      }
    },
    {
      "cell_type": "code",
      "source": [
        "a = 4\n",
        "b = 1.5\n",
        "c = a + b\n",
        "print(\"Addition uses:\", type(c))  # It's a float\n",
        "\n",
        "d = 10 / 2\n",
        "print(\"Division uses:\", type(d))\n",
        "\n",
        "e = 10 // 2\n",
        "print(\"Integer division uses:\", type(e))"
      ],
      "metadata": {
        "id": "f7D6vAiPJ6FX"
      },
      "execution_count": null,
      "outputs": []
    },
    {
      "cell_type": "markdown",
      "source": [
        "You can convert between types with this structure: `<type>(<value>)`:"
      ],
      "metadata": {
        "id": "C4gSGr6wLm7l"
      }
    },
    {
      "cell_type": "code",
      "source": [
        "a = int(1.5)  # Convert from float to int: a = 1\n",
        "print(a)\n",
        "b = float(1)  # Convert from int to float: b = 1.0\n",
        "print(b)\n",
        "\n",
        "c = str(1)  # Convert from integer to string: c = \"1\"\n",
        "print(c, type(c))\n",
        "d = list(\"abc\")  # Convert from string to list: d = [\"a\", \"b\", \"c\"]\n",
        "print(d)\n",
        "\n",
        "e = bool(\" \")  # All non-empty strings convert to True.\n",
        "print(e)"
      ],
      "metadata": {
        "id": "Az971JyXKboT"
      },
      "execution_count": null,
      "outputs": []
    },
    {
      "cell_type": "markdown",
      "source": [
        "Converting an integer to a string, then to an integer returns the same result. Converting a boolean to a string, then to a boolean may not. So You need to be careful when you convert; use debugging tools to confirm your understanding."
      ],
      "metadata": {
        "id": "2tQLTlzSMtEE"
      }
    },
    {
      "cell_type": "code",
      "source": [
        "i = 1\n",
        "print(int(str(i)))\n",
        "\n",
        "a = False\n",
        "print(str(bool(a)))"
      ],
      "metadata": {
        "id": "PJn-pn19Mw3a"
      },
      "execution_count": null,
      "outputs": []
    },
    {
      "cell_type": "markdown",
      "source": [
        "## Strings are immutable too\n",
        "\n",
        "In Python (unlike C) you cannot change the value of a string after setting its value."
      ],
      "metadata": {
        "id": "EnSqmcsX0Gxa"
      }
    },
    {
      "cell_type": "code",
      "source": [
        "some_string = \"abcd\"\n",
        "some_string[0] = \"z\"\n",
        "some_string.append(\"e\")"
      ],
      "metadata": {
        "id": "fHjyP3sI0IUX"
      },
      "execution_count": null,
      "outputs": []
    },
    {
      "cell_type": "markdown",
      "source": [
        "Lists are often faster than strings. To convert from a string to a list, use this list method: `.split()` (remember: methods are functions called with a period after an object, like a string or a list):"
      ],
      "metadata": {
        "id": "NjZTDfWu3Ykr"
      }
    },
    {
      "cell_type": "code",
      "source": [
        "address = \"Geffen Hall, 645 West 130th Street, 10027, New York, NY, USA\"\n",
        "elements = address.split(\", \")\n",
        "print(elements)"
      ],
      "metadata": {
        "id": "jvCuhhAB3eGI"
      },
      "execution_count": null,
      "outputs": []
    },
    {
      "cell_type": "markdown",
      "source": [
        "To convert back to a string, use the string method `.join()`. You invoke it on a string, like the same delimiter `\", \"`, and pass a list after it. (It's a string method, not a list method.)"
      ],
      "metadata": {
        "id": "ZAq1x6ge3wH5"
      }
    },
    {
      "cell_type": "code",
      "source": [
        "address_from_list = \", \".join(elements)\n",
        "print(address_from_list)"
      ],
      "metadata": {
        "id": "F5-ZBOfQ4Ise"
      },
      "execution_count": null,
      "outputs": []
    },
    {
      "cell_type": "markdown",
      "source": [
        "The two methods are exact inverses, as you can see by this comparison:"
      ],
      "metadata": {
        "id": "SL4bDSwW4YlR"
      }
    },
    {
      "cell_type": "code",
      "source": [
        "print(address_from_list == address)"
      ],
      "metadata": {
        "id": "qfB4mweN4fBI"
      },
      "execution_count": null,
      "outputs": []
    },
    {
      "cell_type": "markdown",
      "source": [
        "## Speed comparison: strings versus lists\n",
        "\n",
        "Operating on strings can be long because Python creates a new version of the string each time. In that case, it's faster to create a list, then convert the list to a string with `.join()`."
      ],
      "metadata": {
        "id": "1dnK0VIs1fu0"
      }
    },
    {
      "cell_type": "code",
      "source": [
        "import time\n",
        "import string\n",
        "\n",
        "def string_operation():\n",
        "  long_string = \"\"\n",
        "  for i in string.ascii_letters:\n",
        "    long_string += i + \" \"\n",
        "  return long_string\n",
        "\n",
        "def list_operation():\n",
        "  long_list = []\n",
        "  for i in string.ascii_letters:\n",
        "    long_list.append(i)\n",
        "  long_string = \" \".join(long_list)\n",
        "  return long_string\n",
        "\n",
        "print(string_operation())\n",
        "print(list_operation())\n",
        "\n",
        "start = time.time()\n",
        "string_operation()\n",
        "string_duration = time.time() - start\n",
        "\n",
        "start = time.time()\n",
        "list_operation()\n",
        "list_duration = time.time() - start\n",
        "\n",
        "print(\"List manipulation: \", list_duration, \", strings:\", string_duration)\n",
        "print(\"Improvement:\",  string_duration / list_duration)"
      ],
      "metadata": {
        "id": "Sqfa2JSi1qA3"
      },
      "execution_count": null,
      "outputs": []
    },
    {
      "cell_type": "markdown",
      "source": [
        "## Silent variables\n",
        "\n",
        "The above code ran only once, so there may be a lot of variation in that one run of the code (i.e. the improvement is different each time you run this). Let's run that operation 10 thousand times with a for loop. But if we use this:"
      ],
      "metadata": {
        "id": "cCoTM-Fg9TJx"
      }
    },
    {
      "cell_type": "code",
      "source": [
        "N = int(1e4)\n",
        "for i in range(N):\n",
        "  string_operation()"
      ],
      "metadata": {
        "id": "H6F1sE5_-vVH"
      },
      "execution_count": null,
      "outputs": []
    },
    {
      "cell_type": "markdown",
      "source": [
        "Autograder will give a style error that variable `i` is never used. So instead, use a \"__silent variable__\", underscore, a variable you don't care about, but you need only for the syntax to work:"
      ],
      "metadata": {
        "id": "GSST3fAA-1Hs"
      }
    },
    {
      "cell_type": "code",
      "source": [
        "for _ in range(N):\n",
        "  string_operation()"
      ],
      "metadata": {
        "id": "kbd7TaOV_JC9"
      },
      "execution_count": null,
      "outputs": []
    },
    {
      "cell_type": "markdown",
      "source": [
        "And now let's run the same comparison code again, where each operation is repeated 10 thousand times"
      ],
      "metadata": {
        "id": "jheOSMLc_Qnj"
      }
    },
    {
      "cell_type": "code",
      "source": [
        "N = int(1e4)\n",
        "start = time.time()\n",
        "for _ in range(N):\n",
        "  string_operation()\n",
        "string_duration = time.time() - start\n",
        "\n",
        "start = time.time()\n",
        "for _ in range(N):\n",
        "  list_operation()\n",
        "list_duration = time.time() - start\n",
        "\n",
        "print(\"List manipulation: \", list_duration, \", strings:\", string_duration)\n",
        "print(\"Speed improvement:\",  round(string_duration / list_duration, 2))"
      ],
      "metadata": {
        "id": "_znhdrOA_eRI"
      },
      "execution_count": null,
      "outputs": []
    },
    {
      "cell_type": "markdown",
      "source": [
        "# In-place\n",
        "\n",
        "Some methods work \"in-place\". They modify the original object.\n",
        "\n",
        "For example, on lists: `.append()` and `.insert()`. But every function/method returns something, so it may return None.\n"
      ],
      "metadata": {
        "id": "Ap0QxiRB80hS"
      }
    },
    {
      "cell_type": "code",
      "source": [
        "a_list = [1, 3]\n",
        "print(a_list.append(2))  # <- prints None.\n",
        "print(a_list)  # <- prints [1, 3, 2]\n",
        "print(a_list.insert(0, 1))  # <- prints None.\n",
        "print(a_list)  # <- prints [1, 1, 3, 2]."
      ],
      "metadata": {
        "id": "WNXlFGsFDBxQ"
      },
      "execution_count": null,
      "outputs": []
    },
    {
      "cell_type": "markdown",
      "source": [
        "Other methods work \"in-place\", but still return something. For example, `.pop()` removes the last element from a list and returns it."
      ],
      "metadata": {
        "id": "OiHNX8rXEAv5"
      }
    },
    {
      "cell_type": "code",
      "source": [
        "print(a_list.pop())  # Prints 2\n",
        "print(a_list)  # Prints [1, 1, 3]"
      ],
      "metadata": {
        "id": "aatOD7-WEMpG"
      },
      "execution_count": null,
      "outputs": []
    },
    {
      "cell_type": "markdown",
      "source": [
        "Other methods return a copy of the original object. For example, on strings: `.replace()` and `.upper()`. Strings are immutable, so these methods have to work by copy (they cannot change the original string)."
      ],
      "metadata": {
        "id": "9T6kRegKElqY"
      }
    },
    {
      "cell_type": "code",
      "source": [
        "a_string = \"abcd\"\n",
        "print(a_string.upper())  # Prints ABCD, not None\n",
        "a_string = a_string.replace(\"ab\", \"cd\")\n",
        "print(a_string)  # Prints cdcd, not None."
      ],
      "metadata": {
        "id": "KhY70Jm7EOd5"
      },
      "execution_count": null,
      "outputs": []
    },
    {
      "cell_type": "markdown",
      "source": [
        "Common issue: The code below will assign `None` to `a_list`.\n",
        "\n",
        "Why? The method returns None, and you assign the result to the variable.\n",
        "  \n",
        "If you get a None when you did not expect, you're using an in-place method on a mutable object, and you should use the original variable instead."
      ],
      "metadata": {
        "id": "x0ezMzimE727"
      }
    },
    {
      "cell_type": "code",
      "source": [
        "# Don't do this:\n",
        "a_list = [1, 2]\n",
        "a_list = a_list.append(3)  # a_list is now None.\n",
        "print(a_list)  # Prints None. You should not have assigned that variable.\n",
        "\n",
        "# Instead, do this:\n",
        "a_list = [1, 2]\n",
        "a_list.append(3)  # a_list is now [1, 2, 3]\n",
        "print(a_list)  # Prints [1, 2, 3]"
      ],
      "metadata": {
        "id": "FiDbQnzwFGh-"
      },
      "execution_count": null,
      "outputs": []
    },
    {
      "cell_type": "markdown",
      "source": [
        "## Sorting\n",
        "\n",
        "Sort any sequence with function `sorted()`. Sort lists with in-place method `.sort()`\n"
      ],
      "metadata": {
        "id": "QmRN4fCXHfUi"
      }
    },
    {
      "cell_type": "code",
      "source": [
        "a_list = [1, 3, 2]\n",
        "a_string = \"ACB\"\n",
        "\n",
        "print(sorted(a_list))\n",
        "print(sorted(a_string))\n",
        "\n",
        "print(a_list)  # It's still [1, 3, 2]! sorted() does not work in-place.\n",
        "print(a_list.sort())  # Prints None\n",
        "print(a_list)  # Prints a sorted list\n"
      ],
      "metadata": {
        "id": "kKbnVC1vHwTc"
      },
      "execution_count": null,
      "outputs": []
    },
    {
      "cell_type": "markdown",
      "source": [
        "Sort any list in reverse order with `.sort(reverse=True)`."
      ],
      "metadata": {
        "id": "lYSVsX1cI7_R"
      }
    },
    {
      "cell_type": "code",
      "source": [
        "a_list = [1, 3, 2]\n",
        "\n",
        "print(a_list)\n",
        "print(a_list.sort(reverse=True))  # Prints None\n",
        "print(a_list)  # Prints a list sorted descendingly."
      ],
      "metadata": {
        "id": "VKbSObmSHwkh"
      },
      "execution_count": null,
      "outputs": []
    },
    {
      "cell_type": "markdown",
      "source": [
        "## Mutability and in-place\n",
        "\n",
        "Strings are like lists. Then why does this code throw an error?"
      ],
      "metadata": {
        "id": "j4AuOnSVNXhX"
      }
    },
    {
      "cell_type": "code",
      "source": [
        "a_string = 'zyxwvutsrqponmlkjihgfedcba'\n",
        "print(a_string.sort())"
      ],
      "metadata": {
        "id": "Cb6aviZ7Nb45"
      },
      "execution_count": null,
      "outputs": []
    },
    {
      "cell_type": "markdown",
      "source": [
        "This works:"
      ],
      "metadata": {
        "id": "kot9ANfiOliv"
      }
    },
    {
      "cell_type": "code",
      "source": [
        "a_string = 'zyxwvutsrqponmlkjihgfedcba'\n",
        "sorted_list = sorted(a_string)\n",
        "sorted_string = ''.join(sorted_list)\n",
        "print(sorted_string)"
      ],
      "metadata": {
        "id": "aZwhZGk3OnBE"
      },
      "execution_count": null,
      "outputs": []
    }
  ]
}