{
  "cells": [
    {
      "cell_type": "markdown",
      "id": "814d956e-9a41-4ecf-a730-291084dd3420",
      "metadata": {
        "id": "814d956e-9a41-4ecf-a730-291084dd3420"
      },
      "source": [
        "# Logistic regression"
      ]
    },
    {
      "cell_type": "markdown",
      "source": [
        "## Data\n",
        "\n",
        "Download the dataset from Canvas, in the folder `files` (not from GitHub, because the data is not publicly available without an account). It's from a [paper](https://www.sciencedirect.com/science/article/pii/S0957417420303912) that uses neural networks to predict corporate defaults of Italian firms. You can see the full data [on Kaggle](https://www.kaggle.com/datasets/lukaszpostek/newconnect-market-corporate-default-prediction?resource=download) (requires a free account).\n",
        "\n",
        "Save it somewhere on your computer. You will need to know the path to import it in the next cell.\n",
        "\n",
        "If running on Colab, run this cell to connect Colab to your Google Drive:"
      ],
      "metadata": {
        "id": "13TOLHxgV6ux"
      },
      "id": "13TOLHxgV6ux"
    },
    {
      "cell_type": "code",
      "source": [
        "from google.colab import drive\n",
        "drive.mount('/content/drive')"
      ],
      "metadata": {
        "id": "yOWAlv7WVKLV"
      },
      "id": "yOWAlv7WVKLV",
      "execution_count": null,
      "outputs": []
    },
    {
      "cell_type": "markdown",
      "source": [
        "## Logistic regression\n",
        "\n",
        "Here we implement logistic regression for our data. We use pandas to load the data, which uses \"dataframes\", or matrices you can access by column name with syntax `dataframe[list_of_column_names]` (we'll see more of it later; please ignore the line that renames the columns)."
      ],
      "metadata": {
        "id": "pnnt_zh4RfLP"
      },
      "id": "pnnt_zh4RfLP"
    },
    {
      "cell_type": "code",
      "source": [
        "import pandas as pd\n",
        "data = pd.read_csv(\"/content/drive/MyDrive/defaults.csv\", delimiter=\"\\t\")\n",
        "\n",
        "# Students: Please ignore these lines, which clean the data.\n",
        "data.rename(columns={\"x2\": \"assets_ratio\", \"x4\": \"ebitda\"}, inplace=True)\n",
        "\n",
        "# Show a bit of the data.\n",
        "print(data.head())\n",
        "\n",
        "# Show summary statistics.\n",
        "data[[\"default\", \"assets_ratio\", \"ebitda\"]].describe()"
      ],
      "metadata": {
        "id": "s6gLUVRvUVcf"
      },
      "id": "s6gLUVRvUVcf",
      "execution_count": null,
      "outputs": []
    },
    {
      "cell_type": "markdown",
      "source": [
        "Here, we'll focus on 2 regressors: Assets ratio (x2) and EBITDA (x4) to predict default.\n",
        "\n",
        "Import sci-kit learn and run the regression:"
      ],
      "metadata": {
        "id": "AgJci2j8Wyn3"
      },
      "id": "AgJci2j8Wyn3"
    },
    {
      "cell_type": "code",
      "source": [
        "import sklearn.linear_model\n",
        "\n",
        "columns = [\"ebitda\", \"assets_ratio\"]\n",
        "x = data[columns]\n",
        "y = data[[\"default\"]].squeeze()  # Converts to a format suitable for regression.\n",
        "\n",
        "log_reg = sklearn.linear_model.LogisticRegression()\n",
        "classifier = log_reg.fit(x, y)\n",
        "accuracy = 100 * log_reg.score(x, y)\n",
        "print(\"Accuracy on training data: %.1f%%\" % accuracy)\n",
        "\n",
        "coeffs = log_reg.coef_\n",
        "for i in range(len(columns)):\n",
        "    print(\"Coefficient on %s: %.2f\" % (columns[i], coeffs[0, i]))\n"
      ],
      "metadata": {
        "id": "ko7U4VmvXBZ9"
      },
      "id": "ko7U4VmvXBZ9",
      "execution_count": null,
      "outputs": []
    },
    {
      "cell_type": "code",
      "source": [
        "print(coeffs)"
      ],
      "metadata": {
        "id": "n_JsuHGNTQrs"
      },
      "id": "n_JsuHGNTQrs",
      "execution_count": null,
      "outputs": []
    },
    {
      "cell_type": "markdown",
      "source": [
        "Now we predict values for training data or for new, test data. We use the `.predict()` method to predict 0 or 1, and `.predict_proba()` to predict the probability of each outcome."
      ],
      "metadata": {
        "id": "KTfSsgaJ3dqH"
      },
      "id": "KTfSsgaJ3dqH"
    },
    {
      "cell_type": "code",
      "source": [
        "#x_array = np.array(x.loc[:2, columns])\n",
        "#1 / (1 = np.exp(log_reg.intercept_ + np.matmul(x_array, coeffs)))\n",
        "\n",
        "# Prediction on training data: 0/1.\n",
        "print(\"Prediction for first three data points\")\n",
        "print(classifier.predict(x.loc[:2, columns]))\n",
        "\n",
        "# Prediction on training data: probabilities.\n",
        "print(\"Predicted probabilities for first three data points:\")\n",
        "print(classifier.predict_proba(x.loc[:2, columns]))\n",
        "\n",
        "# Generate a new, unseen data point.\n",
        "new_data = pd.DataFrame([[0.5, 0.1]], columns=columns)\n",
        "print(\"Prediction for new data point:\")\n",
        "print(classifier.predict(new_data))\n",
        "print(\"Predicted probability for new data point:\")\n",
        "print(classifier.predict_proba(new_data))\n",
        "\n",
        "# Print the classes that these probabilities refer to:\n",
        "print(\"Classes: \", classifier.classes_)"
      ],
      "metadata": {
        "id": "-NJYY4b01dz6"
      },
      "id": "-NJYY4b01dz6",
      "execution_count": null,
      "outputs": []
    },
    {
      "cell_type": "markdown",
      "source": [
        "For comparison, we run a linear regression too. In this case, the coefficients are very different, about 20 times smaller."
      ],
      "metadata": {
        "id": "scdljzosgTFy"
      },
      "id": "scdljzosgTFy"
    },
    {
      "cell_type": "code",
      "source": [
        "lin_reg = sklearn.linear_model.LinearRegression()\n",
        "lin_reg.fit(x, y)\n",
        "print(lin_reg.coef_)"
      ],
      "metadata": {
        "id": "CXmjhIcwgWKR"
      },
      "id": "CXmjhIcwgWKR",
      "execution_count": null,
      "outputs": []
    },
    {
      "cell_type": "markdown",
      "source": [
        "Finally, we show a comparison of the interplay between the two regressors: a lower ebitda is a bad sign for a company, unless it has a higher asset ratio."
      ],
      "metadata": {
        "id": "Y5064I6hg7RW"
      },
      "id": "Y5064I6hg7RW"
    },
    {
      "cell_type": "code",
      "source": [
        "import sklearn.inspection\n",
        "_ = sklearn.inspection.DecisionBoundaryDisplay.from_estimator(\n",
        "    log_reg,\n",
        "    x,\n",
        "    response_method=\"predict\",\n",
        "    cmap=\"RdBu_r\",\n",
        "    alpha=0.5,\n",
        ")"
      ],
      "metadata": {
        "id": "OjBbHSZ1cYck"
      },
      "id": "OjBbHSZ1cYck",
      "execution_count": null,
      "outputs": []
    },
    {
      "cell_type": "code",
      "source": [],
      "metadata": {
        "id": "WjNlLDc9uPeW"
      },
      "id": "WjNlLDc9uPeW",
      "execution_count": null,
      "outputs": []
    },
    {
      "cell_type": "markdown",
      "source": [
        "# Other data: loan applications\n",
        "\n",
        "We want to automate this process or assist a new loan officer in making decisions.\n",
        "\n",
        "We have data on past loan applications from [this GitHub repository](https://github.com/SandeepHonnali/Loan-Approval-Prediction-using-Machine-Learning/blob/main/1Copy%20of%20loan.csv). The outcome variable is 0-1, whether the loan officer granted the loan. The explanatory variables for logistic regression are the applicant's income and the loan amount."
      ],
      "metadata": {
        "id": "1FMJ8oWDwmj6"
      },
      "id": "1FMJ8oWDwmj6"
    },
    {
      "cell_type": "code",
      "source": [
        "import pandas as pd\n",
        "import numpy as np\n",
        "\n",
        "df = pd.read_csv(\"/content/drive/MyDrive/loans.csv\", delimiter=\",\")\n",
        "\n",
        "# Clean the data\n",
        "outcome = \"outcome\"\n",
        "df[outcome] = (df[\"Loan_Status\"] == \"Y\").astype(np.uint8)\n",
        "\n",
        "df.drop(df[df[\"Loan_Amount_Term\"] != 360.0].index, inplace=True)\n",
        "\n",
        "features = [\"ApplicantIncome\", \"LoanAmount\", \"CoapplicantIncome\"]\n",
        "\n",
        "df = df[[outcome] + features]\n",
        "for f in features:\n",
        "  if f not in [\"ApplicantIncome\", \"LoanAmount\", \"CoapplicantIncome\"]:\n",
        "    continue\n",
        "  df[f] = np.log(1 + df[f])\n",
        "df.dropna(inplace=True)\n",
        "\n",
        "\n",
        "# Show a bit of the data and summary statistics.\n",
        "print(df.head())\n",
        "df[[\"outcome\", \"ApplicantIncome\", \"LoanAmount\"]].describe()"
      ],
      "metadata": {
        "id": "XuDDusH1w-8O"
      },
      "id": "XuDDusH1w-8O",
      "execution_count": null,
      "outputs": []
    }
  ],
  "metadata": {
    "kernelspec": {
      "display_name": "Python 3 (ipykernel)",
      "language": "python",
      "name": "python3"
    },
    "language_info": {
      "codemirror_mode": {
        "name": "ipython",
        "version": 3
      },
      "file_extension": ".py",
      "mimetype": "text/x-python",
      "name": "python",
      "nbconvert_exporter": "python",
      "pygments_lexer": "ipython3",
      "version": "3.12.7"
    },
    "colab": {
      "provenance": []
    }
  },
  "nbformat": 4,
  "nbformat_minor": 5
}