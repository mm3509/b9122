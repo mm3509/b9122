{
  "nbformat": 4,
  "nbformat_minor": 0,
  "metadata": {
    "colab": {
      "provenance": []
    },
    "kernelspec": {
      "name": "python3",
      "display_name": "Python 3"
    },
    "language_info": {
      "name": "python"
    }
  },
  "cells": [
    {
      "cell_type": "markdown",
      "source": [
        "# Dictionaries\n",
        "\n",
        "## Limitations of lists\n",
        "\n",
        "Try to represent a trade with a list and compute the total value:"
      ],
      "metadata": {
        "id": "-znl-EJByTH5"
      }
    },
    {
      "cell_type": "code",
      "execution_count": null,
      "metadata": {
        "id": "TRyumjtxyQdE"
      },
      "outputs": [],
      "source": [
        "# TODO: complete this list to represent a trade\n",
        "# (for example, buying 10 shares of MSFT today at $500.10 per share).\n",
        "trade = []\n",
        "\n",
        "# TODO: compute total amount from the items in the list.\n",
        "total_value = 0\n",
        "\n",
        "print(\"Total value is:\", total_value)"
      ]
    },
    {
      "cell_type": "markdown",
      "source": [
        "Here is a possible solution:"
      ],
      "metadata": {
        "id": "0bnML1g4304I"
      }
    },
    {
      "cell_type": "code",
      "source": [
        "trade = [\"MST\", 10, \"2025-09-24\", 500.10]\n",
        "total_value = trade[1] * trade[3]\n",
        "print(\"Total value is:\", total_value)"
      ],
      "metadata": {
        "id": "iyMLbsDU35qR"
      },
      "execution_count": null,
      "outputs": []
    },
    {
      "cell_type": "markdown",
      "source": [
        "But later, when you have to compute this, it's easy to forget what goes where.\n",
        "\n",
        "Instead, we'll use a **dictionary**. A dictionary is like a list where each element has a label (a string) attached to it. We represent the trade like this:\n"
      ],
      "metadata": {
        "id": "cj7aLu-E3j-o"
      }
    },
    {
      "cell_type": "code",
      "source": [
        "trade_dict = {\n",
        "    \"ticker\": \"MSFT\",\n",
        "    \"shares\": 10,\n",
        "    \"date\": \"2025-09-24\",\n",
        "    \"price\": 500.10\n",
        "}"
      ],
      "metadata": {
        "id": "_N1rkpt330g5"
      },
      "execution_count": null,
      "outputs": []
    },
    {
      "cell_type": "markdown",
      "source": [
        "And then we can compute the total value with code that is easier to read, and more robust:"
      ],
      "metadata": {
        "id": "7Ihqlglq5bOR"
      }
    },
    {
      "cell_type": "code",
      "source": [
        "total_value = trade_dict[\"shares\"] * trade_dict[\"price\"]\n",
        "print(\"Total value is:\", total_value)"
      ],
      "metadata": {
        "id": "OoAmnFX65jWx"
      },
      "execution_count": null,
      "outputs": []
    },
    {
      "cell_type": "markdown",
      "source": [
        "To iterate on a dictionary's keys, these two ways are equivalent (but the latter is shorter, and better):"
      ],
      "metadata": {
        "id": "ql4KwosDHIzd"
      }
    },
    {
      "cell_type": "code",
      "source": [
        "for key in trade_dict.keys():\n",
        "    print(key)\n",
        "\n",
        "for key in trade_dict:\n",
        "    print(key)"
      ],
      "metadata": {
        "id": "mP4TsTGO-rTy"
      },
      "execution_count": null,
      "outputs": []
    },
    {
      "cell_type": "markdown",
      "source": [
        "## Modules\n",
        "\n",
        "First, we define a variable to hold the details of a portfolio:"
      ],
      "metadata": {
        "id": "UktPnL0xIRGv"
      }
    },
    {
      "cell_type": "code",
      "source": [
        "portfolio = {\n",
        "    \"MSFT\": 30,\n",
        "    \"AAPL\": 30,\n",
        "    \"GOOG\": 20,\n",
        "    \"NVDA\": 20\n",
        "}"
      ],
      "metadata": {
        "id": "1trPKP0ZHGH4"
      },
      "execution_count": null,
      "outputs": []
    },
    {
      "cell_type": "markdown",
      "source": [
        "We import the `statistics` module to print some summary statistics:"
      ],
      "metadata": {
        "id": "Nupg6Jc-u30-"
      }
    },
    {
      "cell_type": "code",
      "source": [
        "import statistics\n",
        "\n",
        "shares = portfolio.values()\n",
        "avg = statistics.mean(shares)\n",
        "print(\"Average number of shares:\", avg)"
      ],
      "metadata": {
        "id": "KvldObK-vD39"
      },
      "execution_count": null,
      "outputs": []
    },
    {
      "cell_type": "markdown",
      "source": [
        "We can also create an alias to the package with keyword `as`:"
      ],
      "metadata": {
        "id": "bt-ZZoiDvhDE"
      }
    },
    {
      "cell_type": "code",
      "source": [
        "import statistics as st\n",
        "\n",
        "print(\"  Mean:\", st.mean(shares))\n",
        "print(\"  Mode:\", st.mode(shares))\n",
        "print(\"Median:\", st.median(shares))\n",
        "print(\"St-dev:\", st.stdev(shares))"
      ],
      "metadata": {
        "id": "5DQexMq-vGQX"
      },
      "execution_count": null,
      "outputs": []
    },
    {
      "cell_type": "markdown",
      "source": [
        "If we don't want to import the whole package, we can import only the functions we need:"
      ],
      "metadata": {
        "id": "eqWgalBpvpTc"
      }
    },
    {
      "cell_type": "code",
      "source": [
        "from statistics import mean\n",
        "\n",
        "print(\"  Mean:\", mean(shares))"
      ],
      "metadata": {
        "id": "smZYX6zVvIt2"
      },
      "execution_count": null,
      "outputs": []
    },
    {
      "cell_type": "code",
      "source": [],
      "metadata": {
        "id": "5hqI9UVbv649"
      },
      "execution_count": null,
      "outputs": []
    }
  ]
}