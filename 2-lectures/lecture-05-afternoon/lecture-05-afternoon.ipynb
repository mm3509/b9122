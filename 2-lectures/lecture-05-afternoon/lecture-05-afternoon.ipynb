{
  "nbformat": 4,
  "nbformat_minor": 0,
  "metadata": {
    "colab": {
      "provenance": [],
      "collapsed_sections": [
        "UktPnL0xIRGv"
      ]
    },
    "kernelspec": {
      "name": "python3",
      "display_name": "Python 3"
    },
    "language_info": {
      "name": "python"
    }
  },
  "cells": [
    {
      "cell_type": "markdown",
      "source": [
        "# Strings\n",
        "\n",
        "## Sequence functions (for strings and lists)\n",
        "\n",
        "`len()` gives you the length of a sequence"
      ],
      "metadata": {
        "id": "1dc00Wrd50wq"
      }
    },
    {
      "cell_type": "code",
      "source": [
        "print(len(\"1234\"))\n",
        "print(len([1, 2, 3, 4]))"
      ],
      "metadata": {
        "colab": {
          "base_uri": "https://localhost:8080/"
        },
        "id": "RXfmYjeT56l0",
        "outputId": "a0ff0f3a-0698-4b49-b931-fe72051d9aff"
      },
      "execution_count": 2,
      "outputs": [
        {
          "output_type": "stream",
          "name": "stdout",
          "text": [
            "4\n",
            "4\n"
          ]
        }
      ]
    },
    {
      "cell_type": "markdown",
      "source": [
        "## String methods\n",
        "\n",
        "Methods are functions that run with a period after an object, like \".lower()\" on a string."
      ],
      "metadata": {
        "id": "sXqvsg335-Rs"
      }
    },
    {
      "cell_type": "code",
      "source": [
        "name = \"columbia university\"\n",
        "print(name.upper())  # Convert to uppercase\n",
        "print(name.lower())  # Convert to lowercase\n",
        "print(name.title())  # Convert to title case (first letter uppercase, others lowercase)\n",
        "print(name.count(\"i\"))  # Count number of occurrences\n",
        "print(name.replace(\" \", \"\"))  # Replace all occurrences of the 1st argument with the 2nd\n",
        "\n",
        "name = \"  Columbia University  \"\n",
        "print(name)\n",
        "print(name.strip())  # Removes spaces from start and end"
      ],
      "metadata": {
        "id": "MYgEsF2l6KG0"
      },
      "execution_count": null,
      "outputs": []
    },
    {
      "cell_type": "markdown",
      "source": [
        "# Dictionaries\n",
        "\n",
        "## Limitations of lists\n",
        "\n",
        "Try to represent a trade with a list and compute the total value:"
      ],
      "metadata": {
        "id": "-znl-EJByTH5"
      }
    },
    {
      "cell_type": "code",
      "execution_count": null,
      "metadata": {
        "id": "TRyumjtxyQdE",
        "colab": {
          "base_uri": "https://localhost:8080/"
        },
        "outputId": "b497657c-8b9b-4b4f-a58f-01b91922d94c"
      },
      "outputs": [
        {
          "output_type": "stream",
          "name": "stdout",
          "text": [
            "Total value is: 5000\n"
          ]
        }
      ],
      "source": [
        "# TODO: complete this list to represent a trade\n",
        "# (for example, buying 10 shares of MSFT today at $500.10 per share).\n",
        "trade = [\"MSFT\", 10, \"2025-09-24\", 500]\n",
        "\n",
        "# TODO: compute total amount from the items in the list.\n",
        "total_value = trade[1] * trade[-1]\n",
        "\n",
        "print(\"Total value is:\", total_value)"
      ]
    },
    {
      "cell_type": "markdown",
      "source": [
        "Here is a possible solution:"
      ],
      "metadata": {
        "id": "0bnML1g4304I"
      }
    },
    {
      "cell_type": "code",
      "source": [
        "trade = [\"MST\", 10, \"2025-09-24\", 500.10]\n",
        "total_value = trade[1] * trade[3]\n",
        "print(\"Total value is:\", total_value)"
      ],
      "metadata": {
        "id": "iyMLbsDU35qR"
      },
      "execution_count": null,
      "outputs": []
    },
    {
      "cell_type": "markdown",
      "source": [
        "But later, when you have to compute this, it's easy to forget what goes where.\n",
        "\n",
        "Instead, we'll use a **dictionary**. A dictionary is like a list where each element has a label (a string) attached to it. We represent the trade like this:\n"
      ],
      "metadata": {
        "id": "cj7aLu-E3j-o"
      }
    },
    {
      "cell_type": "code",
      "source": [
        "trade_dict = {\n",
        "    \"ticker\": \"MSFT\",\n",
        "    \"shares\": 10,\n",
        "    \"date\": \"2025-09-24\",\n",
        "    \"price\": 500.10\n",
        "}"
      ],
      "metadata": {
        "id": "_N1rkpt330g5"
      },
      "execution_count": null,
      "outputs": []
    },
    {
      "cell_type": "markdown",
      "source": [
        "And then we can compute the total value with code that is easier to read, and more robust:"
      ],
      "metadata": {
        "id": "7Ihqlglq5bOR"
      }
    },
    {
      "cell_type": "code",
      "source": [
        "total_value = trade_dict[\"shares\"] * trade_dict[\"price\"]\n",
        "print(\"Total value is:\", total_value)"
      ],
      "metadata": {
        "id": "OoAmnFX65jWx",
        "colab": {
          "base_uri": "https://localhost:8080/"
        },
        "outputId": "a8e44aed-46dc-4aad-cf32-b329557a1673"
      },
      "execution_count": null,
      "outputs": [
        {
          "output_type": "stream",
          "name": "stdout",
          "text": [
            "Total value is: 5001.0\n"
          ]
        }
      ]
    },
    {
      "cell_type": "markdown",
      "source": [
        "To iterate on a dictionary's keys, these two ways are equivalent (but the latter is shorter, and better):"
      ],
      "metadata": {
        "id": "ql4KwosDHIzd"
      }
    },
    {
      "cell_type": "code",
      "source": [
        "for key in trade_dict.keys():\n",
        "    print(key)\n",
        "\n",
        "for key in trade_dict:\n",
        "    print(key)"
      ],
      "metadata": {
        "id": "mP4TsTGO-rTy"
      },
      "execution_count": null,
      "outputs": []
    },
    {
      "cell_type": "markdown",
      "source": [
        "# Modules\n",
        "\n",
        "First, we define a variable to hold the details of a portfolio:"
      ],
      "metadata": {
        "id": "UktPnL0xIRGv"
      }
    },
    {
      "cell_type": "code",
      "source": [
        "portfolio = {\n",
        "    \"MSFT\": 30,\n",
        "    \"AAPL\": 30,\n",
        "    \"GOOG\": 20,\n",
        "    \"NVDA\": 20\n",
        "}"
      ],
      "metadata": {
        "id": "1trPKP0ZHGH4"
      },
      "execution_count": null,
      "outputs": []
    },
    {
      "cell_type": "markdown",
      "source": [
        "We import the `statistics` module to print some summary statistics:"
      ],
      "metadata": {
        "id": "Nupg6Jc-u30-"
      }
    },
    {
      "cell_type": "code",
      "source": [
        "import statistics\n",
        "\n",
        "shares = portfolio.values()\n",
        "avg = statistics.mean(shares)\n",
        "print(\"Average number of shares:\", avg)"
      ],
      "metadata": {
        "id": "KvldObK-vD39"
      },
      "execution_count": null,
      "outputs": []
    },
    {
      "cell_type": "markdown",
      "source": [
        "We can also create an alias to the package with keyword `as`:"
      ],
      "metadata": {
        "id": "bt-ZZoiDvhDE"
      }
    },
    {
      "cell_type": "code",
      "source": [
        "import statistics as st\n",
        "\n",
        "print(\"  Mean:\", st.mean(shares))\n",
        "print(\"  Mode:\", st.mode(shares))\n",
        "print(\"Median:\", st.median(shares))\n",
        "print(\"St-dev:\", st.stdev(shares))"
      ],
      "metadata": {
        "id": "5DQexMq-vGQX"
      },
      "execution_count": null,
      "outputs": []
    },
    {
      "cell_type": "markdown",
      "source": [
        "If we don't want to import the whole package, we can import only the functions we need:"
      ],
      "metadata": {
        "id": "eqWgalBpvpTc"
      }
    },
    {
      "cell_type": "code",
      "source": [
        "from statistics import mean\n",
        "\n",
        "print(\"  Mean:\", mean(shares))"
      ],
      "metadata": {
        "id": "smZYX6zVvIt2"
      },
      "execution_count": null,
      "outputs": []
    }
  ]
}